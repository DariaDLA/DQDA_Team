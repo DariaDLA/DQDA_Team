{
 "nbformat": 4,
 "nbformat_minor": 2,
 "metadata": {
  "language_info": {
   "name": "python",
   "codemirror_mode": {
    "name": "ipython",
    "version": 3
   },
   "version": "3.7.3"
  },
  "orig_nbformat": 2,
  "file_extension": ".py",
  "mimetype": "text/x-python",
  "name": "python",
  "npconvert_exporter": "python",
  "pygments_lexer": "ipython3",
  "version": 3
 },
 "cells": [
  {
   "cell_type": "code",
   "execution_count": 2,
   "metadata": {},
   "outputs": [],
   "source": [
    "import json"
   ]
  },
  {
   "cell_type": "code",
   "execution_count": 3,
   "metadata": {},
   "outputs": [],
   "source": [
    "from textblob_de import TextBlobDE as TextBlob"
   ]
  },
  {
   "cell_type": "code",
   "execution_count": 4,
   "metadata": {},
   "outputs": [],
   "source": [
    "import nltk"
   ]
  },
  {
   "cell_type": "code",
   "execution_count": 10,
   "metadata": {},
   "outputs": [],
   "source": [
    "with open('b_article_1p1.txt') as json_file:\n",
    "    data = json.load(json_file)"
   ]
  },
  {
   "cell_type": "code",
   "execution_count": 11,
   "metadata": {},
   "outputs": [
    {
     "name": "stdout",
     "output_type": "stream",
     "text": "{'headline': 'Fast 50 Grad! Rekord-Hitze in Australien gemessen', 'headline_intro': 'Ist das noch Wetter oder schon Klimawandel? ', 'date': '19.12.2019', 'time': '12:07', 'intro': None, 'text': \"Krass. Oder die neue Normalität?Berlin – In der weltweiten Wetterküche brodelt und zischt es gewaltig. Der sonst so winterliche Dezember in Deutschland ist derzeit schon knapp vier Grad zu warm. Auch die Russen-Metropole Moskau meldet sieben Grad und RegenNoch heftiger erwischt es Australien: Auf der Südhalbkugel herrscht derzeit Sommer, daher sind hohe Temperaturen dort kein Wunder – vor allem Down Under ist, was das angeht, einiges gewohnt. Doch so heiß wie in Eucla (Bundesstaat Western Australia) war es noch nie: 49,8 Grad zeigten die Thermometer in der kleinen Siedlung im Süden des Kontinents!Dies berichtet die australische staatliche Wetteragentur auf ihrer Internetseite. Auch der landesweite Durchschnitt bringt einen schon beim Lesen zum Schwitzen: 41,9 Grad – auch ein Rekord. Ist das noch normal oder schon Klimawandel?Klare Antwort von Diplom-Meteorologe Dominik Jung vom Wetterdienst Q.met: „Der Klimawandel zeigt sein heißes Gesicht. Australien erlebt derzeit eine Wetterkatastrophe. Dort werden in den kommenden Tagen Topwerte um 50 Grad erwartet. Dort ist zwar Sommer, aber 50 Grad sind für dortige Verhältnisse Rekordwerte.“Chaleur exceptionnelle en Australie !On relÃ¨ve 49.8Â°C (provisoire) Ã  #Eucla : record absolu national pour DÃ©cembre.49.2Â°C Ã  #Nullarbor (record absolu Etat d'Australie du Sud).49.8Â°c est Ã©galement le nouveau record mondial absolu pour un mois de DÃ©cembre. Carte @infoclimat pic.twitter.com/VqVPPMtRkUKeine Abkühlung in Sicht„Diese Hitze wird sich noch weiter verstärken“, sagt auch die Meteorologin Diana Eadie. In Australiens größter Stadt Sydney sollen die Temperaturen am Samstag auf über 46 Grad steigen. In Adelaide werden schon am Freitag 46 Grad erwartetSeit Oktober haben Buschbrände in Australien nach Angaben der Behörden mehrere Millionen Hektar Land vernichtet. Mindestens sechs Menschen kamen ums Leben, mehr als 1000 Häuser wurden zerstört.Based on preliminary analysis, yesterday, Australia recorded its hottest day on record. The nationally-averaged maximum daytime temp was 41.9 °C exceeding the record set on Tuesday, 40.9 ºC. You can view the top ten highest daily maximum temps here: https://t.co/Cdqm9vD1cI pic.twitter.com/DRDK9LAvrgErschwert wird der Kampf gegen die wütenden Flammen durch die Rekordhitze. Australien leidet ohnehin seit etwa zwei bis drei Jahren unter starker Dürre, die ausgetrocknete Vegetation entzündet sich also besonders leicht. Während die heißen Luftmassen durch das Land ziehen, werden besonders im Landesinneren und im Süden weiter Extremtemperaturen erwartet.Der Südosten des Landes ist besonders stark betroffen: Allein in New South Wales, wo bereits Mitte November ein einwöchiger Notstand ausgerufen worden war, kämpften zuletzt mehr als 2000 Feuerwehrleute gegen rund 100 Brände. Ein besonders bedrohliches Großfeuer ist bis auf etwa 70 Kilometer an die Millionenmetropole Sydney herangerücktTierwelt leidetAuch viele Lebensräume der Koalas fielen den Flammen zum Opfer. In den vergangenen Monaten wurden Dutzende der Beuteltiere gerettet. Aber: Tierschützer gehen davon aus, dass Hunderte weiterer Tiere verendeten. Tausende Koalas und Kängurus kamen in den Flammen um, alleine im „Lakes Inn Nationalpark“ wurden 350 Koalas getötet, das ist mehr als die Hälfte der PopulationDie Hitze bring tauch den Lebensrhythmus anderer Tiere durcheinander: Auf der abgelegenen Weihnachtsinsel im Indischen Ozean haben die Roten Landkrabben deshalb ihren alljährlichen Paarungsmarsch vom Regenwald zur Küste in diesem Jahr erst im Dezember und damit ungewöhnlich spät begonnen. Denn: Zum gewöhnlichen Beginn der Regenzeit im November sei der Niederschlag ausgeblieben, sagte Jahna Luke vom örtlichen TourismusverbandAbhilfe schafften einige Millimeter Regen Mitte Dezember - und setzten den Marsch so in Gang. An der Küste angekommen, paaren sich die Krabben und die Weibchen werfen jeweils mehrere Zehntausend Eier ins Meer. Wissenschaftlern und Parkwächtern zufolge leben etwa 60 bis 80 Millionen Rote Landkrabben (Gecarcoidea natalis) auf der von Australien verwalteten Weihnachtsinsel.\", 'thread': None}\n"
    }
   ],
   "source": [
    "print(data)"
   ]
  },
  {
   "cell_type": "code",
   "execution_count": 20,
   "metadata": {},
   "outputs": [
    {
     "name": "stdout",
     "output_type": "stream",
     "text": "Krass. Oder die neue Normalität?Berlin – In der weltweiten Wetterküche brodelt und zischt es gewaltig. Der sonst so winterliche Dezember in Deutschland ist derzeit schon knapp vier Grad zu warm. Auch die Russen-Metropole Moskau meldet sieben Grad und RegenNoch heftiger erwischt es Australien: Auf der Südhalbkugel herrscht derzeit Sommer, daher sind hohe Temperaturen dort kein Wunder – vor allem Down Under ist, was das angeht, einiges gewohnt. Doch so heiß wie in Eucla (Bundesstaat Western Australia) war es noch nie: 49,8 Grad zeigten die Thermometer in der kleinen Siedlung im Süden des Kontinents!Dies berichtet die australische staatliche Wetteragentur auf ihrer Internetseite. Auch der landesweite Durchschnitt bringt einen schon beim Lesen zum Schwitzen: 41,9 Grad – auch ein Rekord. Ist das noch normal oder schon Klimawandel?Klare Antwort von Diplom-Meteorologe Dominik Jung vom Wetterdienst Q.met: „Der Klimawandel zeigt sein heißes Gesicht. Australien erlebt derzeit eine Wetterkatastrophe. Dort werden in den kommenden Tagen Topwerte um 50 Grad erwartet. Dort ist zwar Sommer, aber 50 Grad sind für dortige Verhältnisse Rekordwerte.“Chaleur exceptionnelle en Australie !On relÃ¨ve 49.8Â°C (provisoire) Ã  #Eucla : record absolu national pour DÃ©cembre.49.2Â°C Ã  #Nullarbor (record absolu Etat d'Australie du Sud).49.8Â°c est Ã©galement le nouveau record mondial absolu pour un mois de DÃ©cembre. Carte @infoclimat pic.twitter.com/VqVPPMtRkUKeine Abkühlung in Sicht„Diese Hitze wird sich noch weiter verstärken“, sagt auch die Meteorologin Diana Eadie. In Australiens größter Stadt Sydney sollen die Temperaturen am Samstag auf über 46 Grad steigen. In Adelaide werden schon am Freitag 46 Grad erwartetSeit Oktober haben Buschbrände in Australien nach Angaben der Behörden mehrere Millionen Hektar Land vernichtet. Mindestens sechs Menschen kamen ums Leben, mehr als 1000 Häuser wurden zerstört.Based on preliminary analysis, yesterday, Australia recorded its hottest day on record. The nationally-averaged maximum daytime temp was 41.9 °C exceeding the record set on Tuesday, 40.9 ºC. You can view the top ten highest daily maximum temps here: https://t.co/Cdqm9vD1cI pic.twitter.com/DRDK9LAvrgErschwert wird der Kampf gegen die wütenden Flammen durch die Rekordhitze. Australien leidet ohnehin seit etwa zwei bis drei Jahren unter starker Dürre, die ausgetrocknete Vegetation entzündet sich also besonders leicht. Während die heißen Luftmassen durch das Land ziehen, werden besonders im Landesinneren und im Süden weiter Extremtemperaturen erwartet.Der Südosten des Landes ist besonders stark betroffen: Allein in New South Wales, wo bereits Mitte November ein einwöchiger Notstand ausgerufen worden war, kämpften zuletzt mehr als 2000 Feuerwehrleute gegen rund 100 Brände. Ein besonders bedrohliches Großfeuer ist bis auf etwa 70 Kilometer an die Millionenmetropole Sydney herangerücktTierwelt leidetAuch viele Lebensräume der Koalas fielen den Flammen zum Opfer. In den vergangenen Monaten wurden Dutzende der Beuteltiere gerettet. Aber: Tierschützer gehen davon aus, dass Hunderte weiterer Tiere verendeten. Tausende Koalas und Kängurus kamen in den Flammen um, alleine im „Lakes Inn Nationalpark“ wurden 350 Koalas getötet, das ist mehr als die Hälfte der PopulationDie Hitze bring tauch den Lebensrhythmus anderer Tiere durcheinander: Auf der abgelegenen Weihnachtsinsel im Indischen Ozean haben die Roten Landkrabben deshalb ihren alljährlichen Paarungsmarsch vom Regenwald zur Küste in diesem Jahr erst im Dezember und damit ungewöhnlich spät begonnen. Denn: Zum gewöhnlichen Beginn der Regenzeit im November sei der Niederschlag ausgeblieben, sagte Jahna Luke vom örtlichen TourismusverbandAbhilfe schafften einige Millimeter Regen Mitte Dezember - und setzten den Marsch so in Gang. An der Küste angekommen, paaren sich die Krabben und die Weibchen werfen jeweils mehrere Zehntausend Eier ins Meer. Wissenschaftlern und Parkwächtern zufolge leben etwa 60 bis 80 Millionen Rote Landkrabben (Gecarcoidea natalis) auf der von Australien verwalteten Weihnachtsinsel.\n"
    }
   ],
   "source": [
    "text = data['text']\n",
    "print(text)                                 # Text auf Französisch, daher werden die Buchstaben nicht korrekt übernommen"
   ]
  },
  {
   "cell_type": "code",
   "execution_count": 21,
   "metadata": {},
   "outputs": [],
   "source": [
    "blob_text = TextBlob(text)"
   ]
  },
  {
   "cell_type": "code",
   "execution_count": 22,
   "metadata": {},
   "outputs": [
    {
     "data": {
      "text/plain": "Sentiment(polarity=0.07033333333333333, subjectivity=0.08333333333333334)"
     },
     "execution_count": 22,
     "metadata": {},
     "output_type": "execute_result"
    }
   ],
   "source": [
    "blob_text.sentiment"
   ]
  },
  {
   "cell_type": "code",
   "execution_count": 28,
   "metadata": {},
   "outputs": [
    {
     "name": "stdout",
     "output_type": "stream",
     "text": "None\n"
    }
   ],
   "source": [
    "thread = data['thread']\n",
    "print(thread)"
   ]
  },
  {
   "cell_type": "code",
   "execution_count": 14,
   "metadata": {},
   "outputs": [
    {
     "name": "stdout",
     "output_type": "stream",
     "text": "{'headline': 'Was unsere First Lady über Greta Thunberg (16) sagt', 'headline_intro': 'Elke Büdenbender (57) im Interview ', 'date': '19.12.2019', 'time': '11:28', 'intro': None, 'text': 'Sie spricht über Politik – und Privates!Seit zweieinhalb Jahren ist Elke Büdenbender (57) Deutschlands First Lady. Zum Job der Frau von Bundespräsident Frank-Walter Steinmeier (63) gehören vor allem repräsentative Auftritte. Gehalt bekommt sie dafür nicht. Ihren eigentlichen Beruf als Richterin am Berliner Verwaltungsgericht lässt Büdenbender ruhenDie First Lady hat ein eigenes Büro im Berliner Schloss Bellevue. Dort gab sie der Deutschen Presseagentur jetzt ein ausführliches Interview. BILD fasst die spannendsten Themen zusammen. Das sagt Elke Büdenbenderüber Greta Thunberg (16):„Sie ist eine beeindruckende junge Frau. Sie bewegt ungeheuer viel, weil sie als Symbolfigur vorne steht. Als Mutter weiß ich aber auch, wie verletzlich Mädchen in diesem Alter sind. Und Greta Thunberg kriegt schon viel ab, vor allem im Internet“, findet die First Lady. „Eine junge Frau derartig zu schmähen, das kann ich nicht nachvollziehen, und ich finde es auch wirklich ganz furchtbar. Sie hat sich ein Programm gegeben und zieht das ziemlich konsequent durch. Mich treibt nur die Sorge um, ob das Kind, ob der Mensch Greta Thunberg das so aushält. Aber ich kann es natürlich nicht beurteilen.“über Fridays for Future:Auf die Frage, ob sie früher selbst bei den Demos mitgelaufen wäre, sagt die First Lady: „Ich glaube schon. Ich war häufig auf Demonstrationen – der IG Metall, aber auch in meiner Heimat Siegen bei Demonstrationen gegen den Leerstand von Häusern. Aber die großen Demos, etwa gegen Kernkraft, die waren mir damals zu gewalttätig. Da habe ich Angst gehabt.“Ihre Tochter Merit (23), die nur selten in der Öffentlichkeit zu sehen ist, ist offenbar noch nicht bei Fridays for Future mitgelaufen. Denn auf die Frage, ob sie ihre Tochter dabei unterstützt hätte, sagt Büdenbender nur knapp: „Ja, wenn sie das gewollt hätte.“über Flugreisen:„Ich vermeide es. Man kann übrigens auch sehr gut mit der Bahn durch Europa fahren. Das kann ich nur empfehlen“, so Elke Büdenbender. „Ich habe gerade für das Frühjahr gebucht: Paris hin und zurück, mit der Bahn, 1. Klasse für 110 Euro – gar nicht so teuer wie man denken würde, aber es dauert natürlich auch recht lange.“ Viel reden mag die First Lady beim Bahnfahren übrigens nicht: „Da möchte ich vor allem lesen.“über die Klimawandel-Debatte:„Ich habe mich schon immer bemüht, mich umweltbewusst zu verhalten, zum Beispiel Müll zu trennen. Und ich bin nochmal aufmerksamer geworden. Ich versuche, wo es geht, Plastik zu vermeiden. Als mein Mann und ich Anfang des Jahres auf den Galapagos-Inseln waren, haben wir gesehen, dass dort unser Plastikmüll angespült wird. Das hat mich ehrlich gesagt mehr schockiert als mich jetzt die Fridays-for-Future-Bewegung beeinflusst.“über Meinungsfreiheit:Den Vorwurf, man dürfe in Deutschland nicht mehr frei sagen, was man wolle, kommentiert die First Lady so: „In Deutschland gilt die Meinungsfreiheit. Alles, was das Strafgesetzbuch nicht unter Strafe stellt, kann man in unserem Land sagen. Man muss aber natürlich damit leben, dass andere eine andere Meinung haben. Die Meinungsfreiheit und auch der Streit um Meinungen sind ein ganz hohes Gut. Sie sind schlichtweg konstituierend für die Demokratie. Und beides wird hier auch gewährleistet.“Es gehe um die Art, wie man miteinander kommuniziert, „wie Hass und Häme über andere ausgegossen werden, vor allem im Internet. Hemmungen gehen dort mehr und mehr verloren. Das habe ich früher nicht erlebt. Und es gibt übelste Beschimpfungen, gerade Frauen gegenüber, auch Frauen, die sich politisch äußern. Sie sind teilweise einer sprachlich sexualisierten Gewalt ausgesetzt, die jede Grenze überschreitet. Das hat Auswirkungen: Es macht Frauen auch stumm. Und verbale Gewalt kann der erste Schritt zu echter Gewalt sein.“über das miese Abschneiden der deutschen Schüler bei der jüngsten Pisa-Studie:Soziale Herkunft entscheide immer noch über die Chancen auf Bildung, so Büdenbender. Das belegt auch die aktuelle Pisa-Studie. Die First Lady meint: „Das heißt, wir dürfen uns nicht so festbeißen an bestimmten Schulformen. Für manche Kinder ist das klassische Schulsystem gut, für andere Kinder ist es besser, wenn sie auf Schulen sind mit besonderen, zum Beispiel musischen Schwerpunkten oder in einer Ganztagsschule, wo sie dann nachmittags gegebenenfalls auch Hausaufgaben machen können. Wir müssen da vielfältiger denken. Ich weiß aber auch, dass das für die Kommunen als Schulträger schwierig zu finanzieren ist.“über das Gendersternchen:Es soll in der deutschen Schriftsprache für Gleichberechtigung sorgen – viele schreiben daher inzwischen zum Beispiel: „Richter*innen“. Büdenbender, selbst studierte Juristin und bekennende Feministin, sagt dazu: „Ach ja, da ist ein schönes Thema. Dahinter steht die berechtigte Forderung: Ich will gemeint, nicht nur mitgemeint sein. Mir fällt das nahezu täglich auf, wenn es irgendwo heißt ,der Richter‘. Nein - ich bin ,die Richterin‘! Aber zugegeben: Das Gendersternchen sieht nicht schön aus. Deshalb benutze ich beim Schreiben das große ,I’, also wie in ,RichterInnen’. Und beim Sprechen versuche ich das durch Abwechseln zu lösen: Ich sage zum Beispiel einmal ,die Ärztin’ und dann ,der Psychiater’.“ Eine Frauenquote findet Büdenbender übrigens gut: „Die Quote ist kein Allheilmittel, aber sie funktioniert.“und über ihr öffentliches Leben:„Wir kaufen meistens in denselben Geschäften ein, quatschen dort ein bisschen und dann ist gut. Ich kann auch nach wie vor S-Bahn und U-Bahn fahren.“', 'thread': None}\n"
    }
   ],
   "source": [
    "with open('b_article_1p2.txt') as json_file:\n",
    "    data1 = json.load(json_file)\n",
    "print(data1)\n"
   ]
  }
 ]
}