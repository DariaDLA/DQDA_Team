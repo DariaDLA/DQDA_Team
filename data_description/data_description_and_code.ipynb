{
 "cells": [
  {
   "cell_type": "code",
   "execution_count": 1,
   "metadata": {},
   "outputs": [],
   "source": [
    "import json"
   ]
  },
  {
   "cell_type": "markdown",
   "metadata": {},
   "source": [
    "Daten sind als Dictionaries gespeichert und sind mit built-in package json leicht zu lesen/schreiben (oder, in diesem Fall genauer gesagt, _serialize_ und _deserialize_). Beispiel:"
   ]
  },
  {
   "cell_type": "code",
   "execution_count": 2,
   "metadata": {},
   "outputs": [],
   "source": [
    "data = {'Name': 'Otto Normalverbraucher', \n",
    "        'Alter': 50, \n",
    "        'Stimmung': 'Im Weihnachtsstress'}"
   ]
  },
  {
   "cell_type": "code",
   "execution_count": 7,
   "metadata": {},
   "outputs": [],
   "source": [
    "# write dict as json file\n",
    "with open('file.txt', 'w') as outfile:\n",
    "    json.dump(data, outfile)\n",
    "    \n",
    "# read json file\n",
    "with open('file.txt') as json_file:\n",
    "    data = json.load(json_file)"
   ]
  },
  {
   "cell_type": "code",
   "execution_count": 4,
   "metadata": {},
   "outputs": [
    {
     "data": {
      "text/plain": [
       "'Im Weihnachtsstress'"
      ]
     },
     "execution_count": 4,
     "metadata": {},
     "output_type": "execute_result"
    }
   ],
   "source": [
    "data['Stimmung']"
   ]
  },
  {
   "cell_type": "markdown",
   "metadata": {},
   "source": [
    "Jeder Artikel ist in seiner eigenen Datei im Ordner `corpus` gespeichert. \n",
    "Das Dictionary-Objekt enthält folgende Felder (dictionary keys):\n",
    "* 'headline' - der Titel\n",
    "* 'headline_intro' - noch zusätzliche Info zum Titel\n",
    "* 'date' - das Datum\n",
    "* 'time' - die Uhrzeit \n",
    "* 'intro' - kurzer Text, der wahrscheinlich das Thema des Artikels in einigen Worten erläutert\n",
    "* 'text' - der ganze Text des Artikels\n",
    "* 'thread' - Kommentare (als list-Objekt)"
   ]
  },
  {
   "cell_type": "code",
   "execution_count": 9,
   "metadata": {},
   "outputs": [],
   "source": [
    "with open('article_example_1.txt') as json_file:\n",
    "    article = json.load(json_file)"
   ]
  },
  {
   "cell_type": "code",
   "execution_count": 11,
   "metadata": {},
   "outputs": [
    {
     "data": {
      "text/plain": [
       "'Sonntag, 15.12.2019 '"
      ]
     },
     "execution_count": 11,
     "metadata": {},
     "output_type": "execute_result"
    }
   ],
   "source": [
    "# article date\n",
    "article['date']"
   ]
  },
  {
   "cell_type": "code",
   "execution_count": 15,
   "metadata": {
    "scrolled": true
   },
   "outputs": [
    {
     "data": {
      "text/plain": [
       "[['1.Ein Klima-Gipfel der Unfähigkeit   und der peinlichen Pannen. Dieser Aufwand war echt für die Katz. Das ganze Desaster hat hoffentlich noch ein Nachspiel.'],\n",
       " ['2.Boykott Nun wird es Zeit, Produkte aus Australien, Brasilien, USA, China etc zu boykottieren. Die EU ist ein großer Markt und hat daher Macht.'],\n",
       " ['3.CO2-Bilanz Für diesen \"Klima-Gipfel\" wurde vermutlich mehr CO2 produziert als die Beschlüsse insgesamt an Einsparungen mit sich bringen. Das Ganze wird langsam immer lächerlicher.'],\n",
       " ['4 Keine Sorge, das Nachspiel wird kommen.Wir als Spezies haben es uns redlich verdient.'],\n",
       " ['5 Wie wäre denn ein entsprechend angepasster Konsum? Produkte vermeiden, die aus ignoranten Ländern wie China, Indien und den USA kommen (ausser, sie sind gezielt besonders nachhaltig produziert). Also z. B. kein Huawei Handy, sondern ein Sony oder Samsung. Die Liste kann man auf viele alltäglichen Entscheidungen ausdehnen. Politisch muss man sich die Frage stellen, ob man mit diesen Staaten die Wirtschaftsbeziehungen ausbauen will. Das würde uns Wohlstand kosten - aber ohne Reduktion von Investitionen und Konsum wird der fossile Energieverbrauch sich kaum deutlich reduzieren lassen.']]"
      ]
     },
     "execution_count": 15,
     "metadata": {},
     "output_type": "execute_result"
    }
   ],
   "source": [
    "# first 5 comments\n",
    "article['thread'][:5]"
   ]
  },
  {
   "cell_type": "code",
   "execution_count": 16,
   "metadata": {},
   "outputs": [
    {
     "data": {
      "text/plain": [
       "'Das Desaster von Madrid'"
      ]
     },
     "execution_count": 16,
     "metadata": {},
     "output_type": "execute_result"
    }
   ],
   "source": [
    "# headline\n",
    "article['headline']"
   ]
  },
  {
   "cell_type": "markdown",
   "metadata": {},
   "source": [
    "Es kommt vor, dass nicht alle Eigenschaften, die das Dictionary-Objekt beinhaltet, auch tatsächlich für den Artikel verfügbar sind - z.B., Kommentare können fehlen. In diesem Fall wird als `value` für den entsprechenden `key` None oder NaN gespeichert (kommt leider beides vor, weil nicht ganz sauber geschrieben - deal with it... NaN können allerdings nur in `headline`, `headline_intro`, `intro` auftauchen).\n",
    "\n",
    "Ein Beispiel vom Artikel mit fehlender Diskussion:"
   ]
  },
  {
   "cell_type": "code",
   "execution_count": 17,
   "metadata": {},
   "outputs": [],
   "source": [
    "with open('article_example_2.txt') as json_file:\n",
    "    article_no_thread = json.load(json_file)"
   ]
  },
  {
   "cell_type": "code",
   "execution_count": 23,
   "metadata": {},
   "outputs": [
    {
     "data": {
      "text/plain": [
       "True"
      ]
     },
     "execution_count": 23,
     "metadata": {},
     "output_type": "execute_result"
    }
   ],
   "source": [
    "article_no_thread['thread'] == None"
   ]
  },
  {
   "cell_type": "markdown",
   "metadata": {},
   "source": [
    "Einige Links führen offenbar zu Seiten, die eine andere Struktur (html) haben als die, an die ich Funktionen angepasst habe. In diesem Fall werden logischerweise keine Attribute gefunden und das sieht so aus:"
   ]
  },
  {
   "cell_type": "code",
   "execution_count": 24,
   "metadata": {},
   "outputs": [],
   "source": [
    "with open('article_example_3.txt') as json_file:\n",
    "    article_empty = json.load(json_file)"
   ]
  },
  {
   "cell_type": "code",
   "execution_count": 25,
   "metadata": {
    "scrolled": true
   },
   "outputs": [
    {
     "data": {
      "text/plain": [
       "{'headline': nan,\n",
       " 'headline_intro': nan,\n",
       " 'date': None,\n",
       " 'time': None,\n",
       " 'intro': nan,\n",
       " 'text': None,\n",
       " 'thread': None}"
      ]
     },
     "execution_count": 25,
     "metadata": {},
     "output_type": "execute_result"
    }
   ],
   "source": [
    "article_empty"
   ]
  },
  {
   "cell_type": "markdown",
   "metadata": {},
   "source": [
    "Solche Dateien sollten natürlich einfach ignoriert werden."
   ]
  }
 ],
 "metadata": {
  "kernelspec": {
   "display_name": "Python 3",
   "language": "python",
   "name": "python3"
  },
  "language_info": {
   "codemirror_mode": {
    "name": "ipython",
    "version": 3
   },
   "file_extension": ".py",
   "mimetype": "text/x-python",
   "name": "python",
   "nbconvert_exporter": "python",
   "pygments_lexer": "ipython3",
   "version": "3.6.4"
  }
 },
 "nbformat": 4,
 "nbformat_minor": 2
}
