{
 "cells": [
  {
   "cell_type": "code",
   "execution_count": 1,
   "metadata": {
    "collapsed": true
   },
   "outputs": [],
   "source": [
    "import pandas as pd\n",
    "import numpy as np\n",
    "import seaborn as sns\n",
    "import matplotlib.pyplot as plt\n",
    "import random"
   ]
  },
  {
   "cell_type": "code",
   "execution_count": 2,
   "metadata": {
    "collapsed": true
   },
   "outputs": [],
   "source": [
    "%matplotlib inline"
   ]
  },
  {
   "cell_type": "code",
   "execution_count": 3,
   "metadata": {
    "collapsed": true
   },
   "outputs": [],
   "source": [
    "sns.set(style=\"whitegrid\", palette=\"pastel\", color_codes=True)"
   ]
  },
  {
   "cell_type": "code",
   "execution_count": 4,
   "metadata": {
    "collapsed": false
   },
   "outputs": [],
   "source": [
    "# Import CSV Tables\n",
    "df_comments = pd.read_csv('spiegel_comments_sentiment.csv',index_col=0) # import CSV Auswertung Threads\n",
    "df_article_spiegel = pd.read_csv('df_gesamt.csv', index_col=0) # Import CSV Auswertung Artikel-Spiegel\n",
    "df_article_bild = pd.read_csv('df_gesamt_bild.csv', index_col=0) # Import CSV Auswertung Artikel-Bild\n",
    "\n",
    "# RESET Index\n",
    "df_comments.set_index('Id',inplace = True)\n",
    "df_article_spiegel.set_index('Id',inplace = True)\n",
    "df_article_bild.set_index('Id',inplace=True)\n",
    "\n",
    "# Join Tables\n",
    "df_spiegel = df_article_spiegel.join(df_comments)\n",
    "\n",
    "# Convertings\n",
    "to_drop_spiegel = df_spiegel[(df_spiegel['lesbarkeit']<0) | (df_spiegel['lesbarkeit']>100)] # drop rows Lesbarkeit kleiner 0 oder größer 100\n",
    "df_spiegel.drop(to_drop_spiegel.index, inplace = True)\n",
    "\n",
    "df_bild = df_article_bild\n",
    "to_drop_bild = df_bild[(df_bild['lesbarkeit']<0) | (df_bild['lesbarkeit']>100)] # drop rows Lesbarkeit kleiner 0 oder größer 100\n",
    "df_bild.drop(to_drop_bild.index, inplace = True)\n",
    "\n",
    "\n"
   ]
  },
  {
   "cell_type": "code",
   "execution_count": 5,
   "metadata": {
    "collapsed": false
   },
   "outputs": [
    {
     "data": {
      "text/html": [
       "<div>\n",
       "<table border=\"1\" class=\"dataframe\">\n",
       "  <thead>\n",
       "    <tr style=\"text-align: right;\">\n",
       "      <th></th>\n",
       "      <th>articles_counts</th>\n",
       "      <th>day</th>\n",
       "      <th>lesbarkeit</th>\n",
       "      <th>month</th>\n",
       "      <th>polarity</th>\n",
       "      <th>subjectivity</th>\n",
       "      <th>thread_counts</th>\n",
       "      <th>word_counts</th>\n",
       "      <th>year</th>\n",
       "    </tr>\n",
       "  </thead>\n",
       "  <tbody>\n",
       "    <tr>\n",
       "      <th>count</th>\n",
       "      <td>98.0</td>\n",
       "      <td>98.000000</td>\n",
       "      <td>98.000000</td>\n",
       "      <td>98.000000</td>\n",
       "      <td>98.000000</td>\n",
       "      <td>98.000000</td>\n",
       "      <td>98.0</td>\n",
       "      <td>98.000000</td>\n",
       "      <td>98.0</td>\n",
       "    </tr>\n",
       "    <tr>\n",
       "      <th>mean</th>\n",
       "      <td>1.0</td>\n",
       "      <td>17.142857</td>\n",
       "      <td>43.896531</td>\n",
       "      <td>9.673469</td>\n",
       "      <td>0.036057</td>\n",
       "      <td>0.123487</td>\n",
       "      <td>0.0</td>\n",
       "      <td>307.826531</td>\n",
       "      <td>2019.0</td>\n",
       "    </tr>\n",
       "    <tr>\n",
       "      <th>std</th>\n",
       "      <td>0.0</td>\n",
       "      <td>6.013730</td>\n",
       "      <td>14.278916</td>\n",
       "      <td>3.248395</td>\n",
       "      <td>0.259439</td>\n",
       "      <td>0.168485</td>\n",
       "      <td>0.0</td>\n",
       "      <td>225.784179</td>\n",
       "      <td>0.0</td>\n",
       "    </tr>\n",
       "    <tr>\n",
       "      <th>min</th>\n",
       "      <td>1.0</td>\n",
       "      <td>12.000000</td>\n",
       "      <td>5.300000</td>\n",
       "      <td>1.000000</td>\n",
       "      <td>-1.000000</td>\n",
       "      <td>0.000000</td>\n",
       "      <td>0.0</td>\n",
       "      <td>26.000000</td>\n",
       "      <td>2019.0</td>\n",
       "    </tr>\n",
       "    <tr>\n",
       "      <th>25%</th>\n",
       "      <td>1.0</td>\n",
       "      <td>12.000000</td>\n",
       "      <td>35.382500</td>\n",
       "      <td>10.000000</td>\n",
       "      <td>-0.090265</td>\n",
       "      <td>0.003125</td>\n",
       "      <td>0.0</td>\n",
       "      <td>120.500000</td>\n",
       "      <td>2019.0</td>\n",
       "    </tr>\n",
       "    <tr>\n",
       "      <th>50%</th>\n",
       "      <td>1.0</td>\n",
       "      <td>15.000000</td>\n",
       "      <td>44.170000</td>\n",
       "      <td>11.000000</td>\n",
       "      <td>0.048237</td>\n",
       "      <td>0.072556</td>\n",
       "      <td>0.0</td>\n",
       "      <td>281.500000</td>\n",
       "      <td>2019.0</td>\n",
       "    </tr>\n",
       "    <tr>\n",
       "      <th>75%</th>\n",
       "      <td>1.0</td>\n",
       "      <td>21.000000</td>\n",
       "      <td>53.387500</td>\n",
       "      <td>12.000000</td>\n",
       "      <td>0.171275</td>\n",
       "      <td>0.166667</td>\n",
       "      <td>0.0</td>\n",
       "      <td>442.000000</td>\n",
       "      <td>2019.0</td>\n",
       "    </tr>\n",
       "    <tr>\n",
       "      <th>max</th>\n",
       "      <td>1.0</td>\n",
       "      <td>30.000000</td>\n",
       "      <td>72.530000</td>\n",
       "      <td>12.000000</td>\n",
       "      <td>1.000000</td>\n",
       "      <td>1.000000</td>\n",
       "      <td>0.0</td>\n",
       "      <td>1037.000000</td>\n",
       "      <td>2019.0</td>\n",
       "    </tr>\n",
       "  </tbody>\n",
       "</table>\n",
       "</div>"
      ],
      "text/plain": [
       "       articles_counts        day  lesbarkeit      month   polarity  \\\n",
       "count             98.0  98.000000   98.000000  98.000000  98.000000   \n",
       "mean               1.0  17.142857   43.896531   9.673469   0.036057   \n",
       "std                0.0   6.013730   14.278916   3.248395   0.259439   \n",
       "min                1.0  12.000000    5.300000   1.000000  -1.000000   \n",
       "25%                1.0  12.000000   35.382500  10.000000  -0.090265   \n",
       "50%                1.0  15.000000   44.170000  11.000000   0.048237   \n",
       "75%                1.0  21.000000   53.387500  12.000000   0.171275   \n",
       "max                1.0  30.000000   72.530000  12.000000   1.000000   \n",
       "\n",
       "       subjectivity  thread_counts  word_counts    year  \n",
       "count     98.000000           98.0    98.000000    98.0  \n",
       "mean       0.123487            0.0   307.826531  2019.0  \n",
       "std        0.168485            0.0   225.784179     0.0  \n",
       "min        0.000000            0.0    26.000000  2019.0  \n",
       "25%        0.003125            0.0   120.500000  2019.0  \n",
       "50%        0.072556            0.0   281.500000  2019.0  \n",
       "75%        0.166667            0.0   442.000000  2019.0  \n",
       "max        1.000000            0.0  1037.000000  2019.0  "
      ]
     },
     "execution_count": 5,
     "metadata": {},
     "output_type": "execute_result"
    }
   ],
   "source": [
    "df_bild.describe()"
   ]
  },
  {
   "cell_type": "code",
   "execution_count": 6,
   "metadata": {
    "collapsed": false
   },
   "outputs": [
    {
     "name": "stderr",
     "output_type": "stream",
     "text": [
      "C:\\Users\\Stefan Kostelecky\\Anaconda3\\lib\\site-packages\\statsmodels\\nonparametric\\kdetools.py:20: VisibleDeprecationWarning: using a non-integer number instead of an integer will result in an error in the future\n",
      "  y = X[:m/2+1] + np.r_[0,X[m/2+1:],0]*1j\n"
     ]
    },
    {
     "data": {
      "image/png": "[encoded data removed]",
      "text/plain": [
       "<matplotlib.figure.Figure at 0x19cd6d7ac50>"
      ]
     },
     "metadata": {},
     "output_type": "display_data"
    }
   ],
   "source": [
    "x = sns.distplot(df_bild.lesbarkeit.dropna())"
   ]
  },
  {
   "cell_type": "code",
   "execution_count": null,
   "metadata": {
    "collapsed": false
   },
   "outputs": [],
   "source": [
    "# Anzahl Artikel \n",
    "grouped = df.groupby('year').agg({'word_counts':[sum,min,max, np.mean, np.median]})\n",
    "grouped.columns = ['_'.join(x) for x in grouped.columns]\n",
    "grouped"
   ]
  },
  {
   "cell_type": "code",
   "execution_count": 25,
   "metadata": {
    "collapsed": false
   },
   "outputs": [
    {
     "data": {
      "text/html": [
       "<div>\n",
       "<table border=\"1\" class=\"dataframe\">\n",
       "  <thead>\n",
       "    <tr style=\"text-align: right;\">\n",
       "      <th></th>\n",
       "      <th>count</th>\n",
       "      <th>mean</th>\n",
       "      <th>std</th>\n",
       "      <th>min</th>\n",
       "      <th>25%</th>\n",
       "      <th>50%</th>\n",
       "      <th>75%</th>\n",
       "      <th>max</th>\n",
       "    </tr>\n",
       "    <tr>\n",
       "      <th>month</th>\n",
       "      <th></th>\n",
       "      <th></th>\n",
       "      <th></th>\n",
       "      <th></th>\n",
       "      <th></th>\n",
       "      <th></th>\n",
       "      <th></th>\n",
       "      <th></th>\n",
       "    </tr>\n",
       "  </thead>\n",
       "  <tbody>\n",
       "    <tr>\n",
       "      <th>1</th>\n",
       "      <td>2.0</td>\n",
       "      <td>212.000000</td>\n",
       "      <td>158.391919</td>\n",
       "      <td>100.0</td>\n",
       "      <td>156.00</td>\n",
       "      <td>212.0</td>\n",
       "      <td>268.00</td>\n",
       "      <td>324.0</td>\n",
       "    </tr>\n",
       "    <tr>\n",
       "      <th>2</th>\n",
       "      <td>4.0</td>\n",
       "      <td>295.000000</td>\n",
       "      <td>242.459619</td>\n",
       "      <td>109.0</td>\n",
       "      <td>137.50</td>\n",
       "      <td>215.0</td>\n",
       "      <td>372.50</td>\n",
       "      <td>641.0</td>\n",
       "    </tr>\n",
       "    <tr>\n",
       "      <th>3</th>\n",
       "      <td>5.0</td>\n",
       "      <td>338.600000</td>\n",
       "      <td>324.442291</td>\n",
       "      <td>57.0</td>\n",
       "      <td>89.00</td>\n",
       "      <td>167.0</td>\n",
       "      <td>651.00</td>\n",
       "      <td>729.0</td>\n",
       "    </tr>\n",
       "    <tr>\n",
       "      <th>4</th>\n",
       "      <td>2.0</td>\n",
       "      <td>188.000000</td>\n",
       "      <td>195.161472</td>\n",
       "      <td>50.0</td>\n",
       "      <td>119.00</td>\n",
       "      <td>188.0</td>\n",
       "      <td>257.00</td>\n",
       "      <td>326.0</td>\n",
       "    </tr>\n",
       "    <tr>\n",
       "      <th>5</th>\n",
       "      <td>2.0</td>\n",
       "      <td>112.000000</td>\n",
       "      <td>49.497475</td>\n",
       "      <td>77.0</td>\n",
       "      <td>94.50</td>\n",
       "      <td>112.0</td>\n",
       "      <td>129.50</td>\n",
       "      <td>147.0</td>\n",
       "    </tr>\n",
       "    <tr>\n",
       "      <th>6</th>\n",
       "      <td>5.0</td>\n",
       "      <td>187.400000</td>\n",
       "      <td>126.044833</td>\n",
       "      <td>33.0</td>\n",
       "      <td>130.00</td>\n",
       "      <td>157.0</td>\n",
       "      <td>253.00</td>\n",
       "      <td>364.0</td>\n",
       "    </tr>\n",
       "    <tr>\n",
       "      <th>8</th>\n",
       "      <td>2.0</td>\n",
       "      <td>236.500000</td>\n",
       "      <td>167.584307</td>\n",
       "      <td>118.0</td>\n",
       "      <td>177.25</td>\n",
       "      <td>236.5</td>\n",
       "      <td>295.75</td>\n",
       "      <td>355.0</td>\n",
       "    </tr>\n",
       "    <tr>\n",
       "      <th>9</th>\n",
       "      <td>2.0</td>\n",
       "      <td>279.500000</td>\n",
       "      <td>207.182287</td>\n",
       "      <td>133.0</td>\n",
       "      <td>206.25</td>\n",
       "      <td>279.5</td>\n",
       "      <td>352.75</td>\n",
       "      <td>426.0</td>\n",
       "    </tr>\n",
       "    <tr>\n",
       "      <th>10</th>\n",
       "      <td>2.0</td>\n",
       "      <td>291.000000</td>\n",
       "      <td>287.085353</td>\n",
       "      <td>88.0</td>\n",
       "      <td>189.50</td>\n",
       "      <td>291.0</td>\n",
       "      <td>392.50</td>\n",
       "      <td>494.0</td>\n",
       "    </tr>\n",
       "    <tr>\n",
       "      <th>11</th>\n",
       "      <td>43.0</td>\n",
       "      <td>337.255814</td>\n",
       "      <td>237.965493</td>\n",
       "      <td>26.0</td>\n",
       "      <td>190.00</td>\n",
       "      <td>301.0</td>\n",
       "      <td>450.00</td>\n",
       "      <td>1037.0</td>\n",
       "    </tr>\n",
       "    <tr>\n",
       "      <th>12</th>\n",
       "      <td>29.0</td>\n",
       "      <td>317.827586</td>\n",
       "      <td>226.177091</td>\n",
       "      <td>33.0</td>\n",
       "      <td>110.00</td>\n",
       "      <td>302.0</td>\n",
       "      <td>483.00</td>\n",
       "      <td>818.0</td>\n",
       "    </tr>\n",
       "  </tbody>\n",
       "</table>\n",
       "</div>"
      ],
      "text/plain": [
       "       count        mean         std    min     25%    50%     75%     max\n",
       "month                                                                     \n",
       "1        2.0  212.000000  158.391919  100.0  156.00  212.0  268.00   324.0\n",
       "2        4.0  295.000000  242.459619  109.0  137.50  215.0  372.50   641.0\n",
       "3        5.0  338.600000  324.442291   57.0   89.00  167.0  651.00   729.0\n",
       "4        2.0  188.000000  195.161472   50.0  119.00  188.0  257.00   326.0\n",
       "5        2.0  112.000000   49.497475   77.0   94.50  112.0  129.50   147.0\n",
       "6        5.0  187.400000  126.044833   33.0  130.00  157.0  253.00   364.0\n",
       "8        2.0  236.500000  167.584307  118.0  177.25  236.5  295.75   355.0\n",
       "9        2.0  279.500000  207.182287  133.0  206.25  279.5  352.75   426.0\n",
       "10       2.0  291.000000  287.085353   88.0  189.50  291.0  392.50   494.0\n",
       "11      43.0  337.255814  237.965493   26.0  190.00  301.0  450.00  1037.0\n",
       "12      29.0  317.827586  226.177091   33.0  110.00  302.0  483.00   818.0"
      ]
     },
     "execution_count": 25,
     "metadata": {},
     "output_type": "execute_result"
    }
   ],
   "source": [
    "df_bild.groupby('month').word_counts.describe().unstack(1)"
   ]
  },
  {
   "cell_type": "code",
   "execution_count": 7,
   "metadata": {
    "collapsed": false
   },
   "outputs": [
    {
     "data": {
      "image/png": "[encoded data removed]",
      "text/plain": [
       "<matplotlib.figure.Figure at 0x19cd71f0a20>"
      ]
     },
     "metadata": {},
     "output_type": "display_data"
    }
   ],
   "source": [
    "ax = sns.boxplot(x=\"month\", y=\"word_counts\", data=df_bild)"
   ]
  },
  {
   "cell_type": "code",
   "execution_count": null,
   "metadata": {
    "collapsed": true
   },
   "outputs": [],
   "source": []
  }
 ],
 "metadata": {
  "kernelspec": {
   "display_name": "Python 3",
   "language": "python",
   "name": "python3"
  },
  "language_info": {
   "codemirror_mode": {
    "name": "ipython",
    "version": 3
   },
   "file_extension": ".py",
   "mimetype": "text/x-python",
   "name": "python",
   "nbconvert_exporter": "python",
   "pygments_lexer": "ipython3",
   "version": "3.6.0"
  }
 },
 "nbformat": 4,
 "nbformat_minor": 2
}
