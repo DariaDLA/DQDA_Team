{
 "cells": [
  {
   "cell_type": "code",
   "execution_count": 261,
   "metadata": {},
   "outputs": [],
   "source": [
    "import requests\n",
    "from bs4 import BeautifulSoup\n",
    "import html5lib\n",
    "import numpy as np\n",
    "import json\n",
    "import time"
   ]
  },
  {
   "cell_type": "code",
   "execution_count": 2,
   "metadata": {},
   "outputs": [],
   "source": [
    "url = 'https://www.bild.de/themen/ereignisse/klimawandel/news-nachrichten-news-fotos-videos-16877746.bild.html'\n",
    "main = 'https://www.bild.de/'"
   ]
  },
  {
   "cell_type": "code",
   "execution_count": 3,
   "metadata": {},
   "outputs": [],
   "source": [
    "# get page\n",
    "def get_page(url):\n",
    "    return BeautifulSoup(requests.get(url).content, 'html.parser')"
   ]
  },
  {
   "cell_type": "code",
   "execution_count": 29,
   "metadata": {},
   "outputs": [],
   "source": [
    "def find_and_complete_links(page):\n",
    "    # each article item has its own class; each page contains 10 article links (from 1 to Last)\n",
    "    items = list(map(str, range(1, 10))) + ['Last']\n",
    "    div_class = ['hentry landscape t10l item' + i for i in items]\n",
    "    article_links = [page.find('div', class_=class_name).find('a')['href'] for class_name in div_class]\n",
    "    article_links = list([main + i for i in article_links if not i.startswith(main)] + [i for i in article_links if i.startswith(main)])\n",
    "    return article_links"
   ]
  },
  {
   "cell_type": "code",
   "execution_count": 25,
   "metadata": {},
   "outputs": [],
   "source": [
    "# last page -> crashes!\n",
    "def find_next_page(page):\n",
    "    return main + page.find_all('a', class_='next hide-text')[0]['data-ajax-href']"
   ]
  },
  {
   "cell_type": "code",
   "execution_count": null,
   "metadata": {},
   "outputs": [],
   "source": [
    "# replace tag (default <br>) with (default) space to get meaningful text\n",
    "def replace_tag(s, tags=['<br>'], sub=' '):\n",
    "    s = str(s)\n",
    "    for tag in tags:\n",
    "        s = s.replace(tag, sub)\n",
    "    return BeautifulSoup(s)"
   ]
  },
  {
   "cell_type": "code",
   "execution_count": 90,
   "metadata": {},
   "outputs": [],
   "source": [
    "def clean_str(s, chars='\\n\\t\\r', strip_chars=['\\.',' '], only_lstrip=False):\n",
    "    for char in chars:\n",
    "        s = s.replace(char, '')\n",
    "    if only_lstrip:\n",
    "        for char in strip_chars:\n",
    "            s = s.lstrip(char)\n",
    "    else:\n",
    "        for char in strip_chars:\n",
    "            s = s.strip(char)\n",
    "    return s"
   ]
  },
  {
   "cell_type": "code",
   "execution_count": 248,
   "metadata": {},
   "outputs": [],
   "source": [
    "#returns (kicker, headline, subhead)\n",
    "def get_title_info(art):\n",
    "    try:\n",
    "        kicker = replace_tag(art.main.find_all('h1')[0].find('span', class_='kicker')).get_text()\n",
    "    except:\n",
    "        try:\n",
    "            kicker = replace_tag(art.find('article').find('header').find('span', class_='kicker')).get_text()\n",
    "        except:\n",
    "            kicker = ''\n",
    "    try:\n",
    "        headline = replace_tag(art.main.find_all('h1')[0].find('span', class_='headline')).get_text()\n",
    "    except:\n",
    "        try:\n",
    "            headline = replace_tag(art.find('article').find('header').find('span', class_='headline')).get_text()\n",
    "        except:\n",
    "            headline = ''\n",
    "    try:\n",
    "        subhead = replace_tag(art.main.find_all('h2', class_='subhead')[0]).get_text()\n",
    "    except:\n",
    "        try:\n",
    "            subhead = replace_tag(art.find('article').find('header').find('h2', class_='subhead')).get_text()\n",
    "        except:\n",
    "            subhead = ''\n",
    "    return (kicker, headline, subhead)"
   ]
  },
  {
   "cell_type": "code",
   "execution_count": 92,
   "metadata": {},
   "outputs": [],
   "source": [
    "# picture descriptions are also already in text\n",
    "def get_pic_description(art):\n",
    "    return [clean_str(i.get_text()) for i in art.find_all('figcaption')]"
   ]
  },
  {
   "cell_type": "code",
   "execution_count": 198,
   "metadata": {},
   "outputs": [],
   "source": [
    "def get_date_time(art):\n",
    "    raw = list(map(clean_str, art.find('div', class_='authors').get_text().split('-')))\n",
    "    date = raw[0].split(' ')[-1]\n",
    "    time = raw[1].split(' ')[0]\n",
    "    return [date, time]"
   ]
  },
  {
   "cell_type": "code",
   "execution_count": 117,
   "metadata": {},
   "outputs": [],
   "source": [
    "# articles have no intro but we could try to extract smth...\n",
    "def get_intro(art):\n",
    "    try:\n",
    "        em = art.find('div', class_='txt').find('em').get_text()\n",
    "    except:\n",
    "        em = ''\n",
    "    try:\n",
    "        strong = art.find('div', class_='txt').find('strong').get_text()\n",
    "    except:\n",
    "        strong = ''\n",
    "    intro = em + strong\n",
    "    if intro == '':\n",
    "        return None\n",
    "    else:\n",
    "        return intro"
   ]
  },
  {
   "cell_type": "code",
   "execution_count": 227,
   "metadata": {},
   "outputs": [],
   "source": [
    "# get all text from article\n",
    "def get_clean_text(art):\n",
    "    text = ''\n",
    "    for i in art.find_all('div', class_='txt')[0].findAll('p'):\n",
    "        text += clean_str(i.get_text().replace('\\xa0', ' '))\n",
    "    if text == '':\n",
    "        text = None\n",
    "    return text    "
   ]
  },
  {
   "cell_type": "code",
   "execution_count": 267,
   "metadata": {},
   "outputs": [],
   "source": [
    "def wait(s):\n",
    "    time.sleep(s)\n",
    "    #print(s)\n",
    "    return 0"
   ]
  },
  {
   "cell_type": "code",
   "execution_count": 280,
   "metadata": {},
   "outputs": [],
   "source": [
    "def scrape_page(url):\n",
    "    page = get_page(url)\n",
    "    article_links = find_and_complete_links(page)\n",
    "    for link in article_links:\n",
    "        #wait(3)\n",
    "        print(link)\n",
    "        try:\n",
    "            art = get_page(link)\n",
    "        except:\n",
    "            print('smth is wrong with get_page')\n",
    "            return 0\n",
    "        try:\n",
    "            kicker, headline, subhead = get_title_info(art)\n",
    "        except:\n",
    "            kicker, headline, subhead = '', None, ''\n",
    "        try:\n",
    "            date_time = get_date_time(art)\n",
    "            date = date_time[0]\n",
    "            time = date_time[1]\n",
    "        except:\n",
    "            date, time = None, None\n",
    "        try:\n",
    "            text = get_clean_text(art)\n",
    "        except:\n",
    "            text = None\n",
    "        article_dict = {'headline': headline,\n",
    "                        'headline_intro': kicker + ' ' + subhead, \n",
    "                        'date': date,\n",
    "                        'time': time, \n",
    "                        'intro': None, \n",
    "                        'text': text,\n",
    "                        'thread': None}        \n",
    "        yield article_dict"
   ]
  },
  {
   "cell_type": "code",
   "execution_count": 229,
   "metadata": {},
   "outputs": [],
   "source": [
    "def write_article(article_dict, filename):\n",
    "    with open(filename, 'w') as outfile:\n",
    "        json.dump(article_dict, outfile)"
   ]
  },
  {
   "cell_type": "code",
   "execution_count": 290,
   "metadata": {},
   "outputs": [
    {
     "name": "stdout",
     "output_type": "stream",
     "text": [
      "1\n",
      "https://www.bild.de//regional/muenchen/muenchen-aktuell/radweg-da-kunden-weg-muenchner-stadtrat-ruft-klimanotstand-aus-66796256.bild.html\n",
      "https://www.bild.de//news/wetter/wetter/wetter-rekord-hitze-australien-so-heiss-war-es-in-down-under-noch-nie-66797366.bild.html\n",
      "https://www.bild.de//politik/inland/politik-inland/greta-klimawandel-und-feminismus-was-deutschlands-first-lady-ueber-diese-themen-66797636.bild.html\n",
      "https://www.bild.de//bild-plus/ratgeber/wissenschaft/ratgeber/weisse-weihnachten-gab-es-die-frueher-wirklich-oefter-66760852.bild.html\n",
      "https://www.bild.de//bild-plus/lifestyle/2019/ratgeber/weihnachten-klimafreundliche-miet-weihnachtsbaeume-im-bild-test-66600560.bild.html\n",
      "https://www.bild.de//bild-plus/ratgeber/wissenschaft/ratgeber/klimawandel-im-fakten-check-werden-wir-2076-noch-leben-66751584.bild.html\n",
      "https://www.bild.de//bild-plus/geld/wirtschaft/wirtschaft/klimapaket-so-teuer-wird-es-fuer-verbraucher-66741454.bild.html\n",
      "https://www.bild.de//politik/ausland/politik-ausland/greta-thunbergs-zoff-mit-der-deutschen-bahn-wie-die-ganze-welt-darueber-berichte-66733074.bild.html\n",
      "https://www.bild.de//politik/2019/politik/klimapaket-einigung-co2-preise-und-pendlerpauschale-steigen-66723784.bild.html\n",
      "https://www.bild.de//politik/inland/politik-inland/gruene-regen-deutschen-pass-fuer-klima-fluechtlinge-an-66718842.bild.html\n",
      "2\n",
      "https://www.bild.de//politik/ausland/politik-ausland/greta-thunberg-im-ice-familienministerin-giffey-wirft-greta-selbstinszenierung-v-66723934.bild.html\n",
      "https://www.bild.de//politik/ausland/politik-ausland/greta-thunberg-traurig-am-ice-gang-warum-zeigt-sie-kein-foto-aus-der-1-klasse-66719860.bild.html\n",
      "https://www.bild.de//politik/kolumnen/kolumne/kommentar-utopische-forderung-66718480.bild.html\n",
      "https://www.bild.de//politik/kolumnen/franz-josef-wagner/post-von-wagner-betrifft-gretas-foto-im-ice-66718506.bild.html\n",
      "https://www.bild.de//bild-plus/politik/ausland/politik-ausland/klimawandel-in-belize-fuer-uns-geht-es-ums-nackte-ueberleben-66661320.bild.html\n",
      "https://www.bild.de//politik/ausland/politik-ausland/greta-im-ice-deutsche-bahn-reagiert-66711454.bild.html\n",
      "https://www.bild.de//bild-plus/politik/ausland/politik-ausland/un-klimakonferenz-endet-mit-chaos-sitzung-und-einem-faulen-kompromiss-66713700.bild.html\n",
      "https://www.bild.de//politik/kolumnen/politik-ausland/eu-gipfel-fauler-klima-kompromiss-atomkraft-irrsinn-sofort-stoppen-66687758.bild.html\n",
      "https://www.bild.de//politik/2019/politik/madrid-un-klimagipfel-einigt-sich-auf-kompromiss-66707900.bild.html\n",
      "https://www.bild.de//politik/ausland/politik-ausland/greta-faehrt-deutsche-bahn-klima-aktivistin-findet-keinen-platz-im-ice-66705840.bild.html\n",
      "3\n",
      "https://www.bild.de//geld/wirtschaft/wirtschaft/klimaschuetzer-der-meere-warum-ein-wal-so-viel-wert-ist-wie-1000-baeume-66702234.bild.html\n",
      "https://www.bild.de//regional/koeln/koeln-aktuell/koeln-aus-fuer-fridays-for-future-kids-stellen-umwelt-streiks-ein-66697550.bild.html\n",
      "https://www.bild.de//politik/inland/politik-inland/greta-thunberg-bekommt-rueffel-von-volker-bouffier-grob-falsch-66683688.bild.html\n",
      "https://www.bild.de//bild-plus/politik/ausland/politik-ausland/klimakonferenz-das-schmutzige-viereck-auf-dem-un-gipfel-66681282.bild.html\n",
      "https://www.bild.de//reise/2019/reise/von-packen-bis-unterkunft-tipps-fuer-einen-umweltfreundlichen-urlaub-66523758.bild.html\n",
      "https://www.bild.de//regional/stuttgart/stuttgart-aktuell/enbw-areal-in-stoeckach-so-sieht-stuttgarts-neuer-stadtteil-aus-66661530.bild.html\n",
      "https://www.bild.de//politik/ausland/politik-ausland/ursula-von-der-leyens-green-deal-klimazoff-beim-eu-gipfel-66651444.bild.html\n",
      "https://www.bild.de//politik/ausland/politik-ausland/greta-thunberg-trump-spottet-ueber-klima-aktivistin-die-reagiert-prompt-auf-die-66652342.bild.html\n",
      "https://www.bild.de//politik/ausland/politik-ausland/greenpeace-stoert-eu-gipfel-gebaeude-des-europaeischen-rats-besetzt-66647270.bild.html\n",
      "https://www.bild.de//regional/bremen/bremen-aktuell/klimahaus-bremerhaven-regierungschef-besucht-suedsee-ausstellung-66638048.bild.html\n",
      "4\n",
      "https://www.bild.de//politik/ausland/politik-ausland/un-klimakonferenz-in-madrid-mueder-auftritt-von-greta-thunberg-66642476.bild.html\n",
      "https://www.bild.de//politik/kolumnen/franz-josef-wagner/post-von-wagner-liebe-heilige-greta-66639474.bild.html\n",
      "https://www.bild.de//politik/ausland/politik-ausland/eu-plan-zum-klimaschutz-woran-der-green-deal-jetzt-noch-scheitern-kann-66628320.bild.html\n",
      "https://www.bild.de//regional/hamburg/hamburg-aktuell/klimaforscher-warnt-wir-sind-so-uncool-66604808.bild.html\n",
      "https://www.bild.de//politik/ausland/politik-ausland/green-deal-ursula-von-der-leyen-stellt-heute-eu-klimaplan-vor-66621488.bild.html\n",
      "https://www.bild.de//politik/inland/politik-inland/youtube-netflix-und-co-als-klimasuender-gruene-wollen-streaming-oeko-machen-66620082.bild.html\n",
      "https://www.bild.de//politik/ausland/politik-ausland/greta-thunberg-spricht-beim-klimagipfel-in-madrid-66619136.bild.html\n",
      "https://www.bild.de//bild-plus/politik/ausland/politik-ausland/ursula-von-der-leyens-green-deal-das-1-billion-euro-baby-66573372.bild.html\n",
      "https://www.bild.de//geld/wirtschaft/wirtschaft/versandhandel-experten-fordern-aus-fuer-kostenlose-ruecksendung-66620642.bild.html\n",
      "https://www.bild.de//bild-plus/politik/ausland/politik-ausland/ursula-von-der-leyens-green-deal-so-will-sie-fuer-den-wald-kaempfen-66604436.bild.html\n",
      "5\n",
      "https://www.bild.de//ratgeber/2019/ratgeber/eisverlust-in-groenland-meeresspiegel-um-fast-11-millimeter-angestiegen-66603590.bild.html\n",
      "https://www.bild.de//regional/bremen/bremen-aktuell/dienstwagen-check-klima-lob-fuer-unsere-senatoren-66578146.bild.html\n",
      "https://www.bild.de//ratgeber/wissenschaft/ratgeber/klimawandel-hitzewellen-forscher-befuerchten-steigende-ernteausfaelle-66564596.bild.html\n",
      "https://www.bild.de//regional/bremen/bremen-aktuell/bremer-politiker-fahren-am-wenigsten-klimaschaedlich-66573516.bild.html\n",
      "https://www.bild.de//politik/inland/politik-inland/klima-schutz-empoerung-ueber-gruene-hausnummern-66562664.bild.html\n",
      "https://www.bild.de//politik/kolumnen/kolumne/kommentar-gleichschritt-marsch-66562520.bild.html\n",
      "https://www.bild.de//politik/inland/politik-inland/kritik-von-klimaschuetzern-europaeer-fliegen-so-viel-wie-nie-zuvor-66529520.bild.html\n",
      "https://www.bild.de//politik/ausland/politik-ausland/kundgebung-in-madrid-tausende-demonstrieren-mit-greta-fuers-klima-66529570.bild.html\n",
      "https://www.bild.de//auto/mobilitaet-reisen-motorrad/mobilitaet-und-mehr/forscher-berechnen-energiebilanz-neu-e-auto-akkus-werden-nachhaltiger-66511886.bild.html\n",
      "https://www.bild.de//bild-plus/politik/inland/wirtschaft/experten-kritisieren-schock-plaene-aus-dem-umweltbundesamt-voelliger-quatsch-66501548.bild.html\n",
      "6\n",
      "https://www.bild.de//politik/kolumnen/kolumne/kommentar-zu-den-schock-plaenen-des-umweltbundesamts-forschen-statt-strafen-66501154.bild.html\n",
      "https://www.bild.de//geld/wirtschaft/wirtschaft/bahn-senkt-spartarife-fuer-ice-tickets-um-10-prozent-preisnachlass-durch-das-kli-66505606.bild.html\n",
      "https://www.bild.de//bild-plus/news/ausland/news-ausland/eisensulfat-gegen-kohlendioxid-koennen-wir-den-klimawandel-einfach-wegduengen-66290330.bild.html\n",
      "https://www.bild.de//news/inland/news-inland/klima-wetter-in-deutschland-2018-besonders-extrem-1200-hitze-tote-66475978.bild.html\n",
      "https://www.bild.de//bild-plus/geld/mein-geld/mein-geld/klimagipfel-umfrage-so-wenig-deutsche-wollen-fuer-klimaschutz-zahlen-66437934.bild.html\n",
      "https://www.bild.de//regional/hamburg/hamburg-aktuell/bizarrer-auftritt-zank-um-hamburgs-klima-plan-66449298.bild.html\n",
      "https://www.bild.de//politik/ausland/politik-ausland/greta-thunberg-zurueck-in-europa-klima-aktivistin-kriegt-gegenwind-66438784.bild.html\n",
      "https://www.bild.de//politik/2019/politik/klima-alarm-2010-bis-2019-heissestes-jahrzehnt-seit-1850-66437224.bild.html\n",
      "https://www.bild.de//regional/hamburg/hamburg-aktuell/bis-2040-klimaneutraler-konzern-so-oeko-wird-die-hhla-66425034.bild.html\n",
      "https://www.bild.de//politik/talk-kritik/talk-kritk/klima-professor-bei-plasberg-schnauze-voll-von-den-uebertreibungen-66434668.bild.html\n",
      "7\n",
      "https://www.bild.de//ratgeber/wissenschaft/gesundheit/vorzeitige-geburten-studie-hitze-beeinflusst-schwangerschaft-66416580.bild.html\n",
      "https://www.bild.de//regional/hannover/hannover-aktuell/11-millionen-euro-land-foerdert-hannovers-klima-paket-66425942.bild.html\n"
     ]
    },
    {
     "name": "stdout",
     "output_type": "stream",
     "text": [
      "https://www.bild.de//regional/hamburg/hamburg-aktuell/luisa-neubauer-karriere-als-politikerin-ist-moeglich-66423380.bild.html\n",
      "https://www.bild.de//reise/service/service/co2-kompensation-vier-tipps-fuer-klimabewusstes-reisen-66007656.bild.html\n",
      "https://www.bild.de//politik/inland/politik-inland/csu-general-fordert-gruene-sollen-zahl-der-flugreisen-offenlegen-66408730.bild.html\n",
      "https://www.bild.de//politik/ausland/politik-ausland/greta-thunberg-kommt-zu-spaet-zum-klimagipfel-in-madrid-66402988.bild.html\n",
      "https://www.bild.de//bild-plus/politik/inland/politik-inland/klima-wissenschaftler-erklaeren-so-schlimm-sind-unsere-klima-daten-66389612.bild.html\n",
      "https://www.bild.de//regional/berlin/berlin-aktuell/klimaaktivisten-von-ende-gelaende-stuermen-tagebaue-in-der-lausitz-66382630.bild.html\n",
      "https://www.bild.de//politik/inland/politik-inland/klimanotstand-und-kurzfluege-kritik-an-verhalten-von-gruenen-politiker-66370196.bild.html\n",
      "https://www.bild.de//regional/berlin/berlin-aktuell/beamte-posten-fragwuerdiges-foto-disziplinare-ermittlungen-gegen-polizisten-66366240.bild.html\n",
      "8\n",
      "https://www.bild.de//regional/koeln/koeln-aktuell/12000-bei-fridays-for-future-in-koeln-klima-colonia-66369770.bild.html\n",
      "https://www.bild.de//regional/hamburg/hamburg-aktuell/fridays-for-future-ueber-30-000-demonstrieren-in-hamburg-66366232.bild.html\n",
      "https://www.bild.de//news/ausland/news-ausland/wwf-veroeffentlicht-schock-zahlen-so-schlecht-geht-es-den-eisbaeren-66357566.bild.html\n",
      "https://www.bild.de//politik/inland/politik-inland/fridays-for-future-bundesrat-diskutiert-klimapaket-parallel-zu-demos-66354608.bild.html\n",
      "https://www.bild.de//politik/ausland/politik-ausland/boris-johnson-bei-klimadebatte-im-britischen-tv-durch-eisskulptur-ersetzt-66356324.bild.html\n",
      "https://www.bild.de//bild-plus/ratgeber/wissenschaft/ratgeber/klimawandel-gefaehrliche-domino-effekte-beschleunigen-erderwaermung-66331586.bild.html\n",
      "https://www.bild.de//bild-plus/politik/ausland/politik-ausland/klimawandel-studie-die-erde-ist-gruener-als-vor-20-jahren-65110002.bild.html\n",
      "https://www.bild.de//news/inland/news-inland/wetter-wie-deutschland-seine-strassen-umbauen-muesste-66281342.bild.html\n",
      "https://www.bild.de//politik/inland/politik-inland/ehrgeizige-umwelt-plaene-von-der-leyen-fordert-3-billionen-fuers-klima-66309382.bild.html\n",
      "https://www.bild.de//politik/inland/politik-inland/fridays-for-future-will-olympiastadion-mieten-teilnehmer-sollen-eintritt-zahlen-66283506.bild.html\n",
      "9\n",
      "https://www.bild.de//geld/wirtschaft/wirtschaft/bahn-tickets-sollen-billiger-werden-laender-im-bundesrat-sperren-sich-66257952.bild.html\n",
      "https://www.bild.de//politik/inland/politik-inland/alarmierende-studie-klimawandel-in-deutschland-immer-zerstoererischer-66281362.bild.html\n",
      "https://www.bild.de//bild-plus/news/ausland/news-ausland/klima-experte-warnt-langfristig-muessen-wir-viele-kuestenstaedte-aufgeben-66148486.bild.html\n",
      "https://www.bild.de//regional/frankfurt/frankfurt-aktuell/frankfurt-aktion-am-freitag-klimaschuetzer-wollen-zeil-blockieren-66267896.bild.html\n",
      "https://www.bild.de//politik/inland/politik-inland/treibhausgase-in-der-atmosphaere-auf-neuem-rekord-66262470.bild.html\n",
      "https://www.bild.de//regional/ruhrgebiet/ruhrgebiet-aktuell/klimaschutz-durch-wald-herne-pflanzte-5000-neue-baeume-66254084.bild.html\n",
      "https://www.bild.de//regional/hannover/hannover-aktuell/hannover-lehrerin-von-arktis-mission-zurueck-was-sie-erlebt-hat-wird-schulstoff-66242026.bild.html\n",
      "https://www.bild.de//politik/inland/politik-inland/extinction-rebellion-klima-aktivist-verharmloste-holocaust-zu-werbezwecken-66247812.bild.html\n",
      "https://www.bild.de//politik/ausland/politik-ausland/madrid-ruestet-sich-fuer-klimagipfel-aber-wo-ist-eigentlich-greta-66212266.bild.html\n",
      "https://www.bild.de//politik/kolumnen/politik-inland/cdu-greenpeace-klaut-ein-c-fuer-den-klimaschutz-ein-bild-kommentar-zur-aktion-66204966.bild.html\n",
      "10\n",
      "https://www.bild.de//bild-plus/politik/inland/politik-inland/oelheizung-groko-beschliesst-ende-der-steuervorteile-fuer-modernisierung-66178542.bild.html\n",
      "https://www.bild.de//regional/hamburg/hamburg-aktuell/buergerschaftswahl-bild-kennt-das-geheime-spd-programm-66179610.bild.html\n",
      "https://www.bild.de//politik/inland/politik-inland/cdu-greenpeace-klaut-partei-das-c-klima-protest-am-konrad-adenauer-haus-66176000.bild.html\n",
      "https://www.bild.de//politik/ausland/politik-ausland/greta-thunberg-die-klimaschutzaktivistin-bekommt-kinderfriedenspreis-66171318.bild.html\n",
      "https://www.bild.de//politik/inland/politik-inland/luisa-neubauer-kritisiert-holocaust-aussage-von-xr-gruender-hallam-irrsinnige-wo-66169758.bild.html\n",
      "https://www.bild.de//ratgeber/2019/ratgeber/studie-zum-umweltbewusstsein-wir-denken-gruen-handeln-aber-nicht-so-66150120.bild.html\n",
      "https://www.bild.de//ratgeber/2019/ratgeber/gute-nachricht-auch-fuer-skeptiker-energiewende-wird-alle-gesuender-machen-66124382.bild.html\n",
      "https://www.bild.de//politik/inland/politik-inland/klima-aktivistin-luisa-neubauer-wir-sind-nicht-kategorisch-anti-66084998.bild.html\n",
      "https://www.bild.de//ratgeber/wissenschaft/ratgeber/klimawandel-toedliche-robben-seuche-wegen-arktis-eisschmelze-66089650.bild.html\n",
      "https://www.bild.de//politik/kolumnen/kolumne/kommentar-wir-sind-alle-venedig-66082134.bild.html\n"
     ]
    }
   ],
   "source": [
    "page_num = 0\n",
    "link = url\n",
    "while page_num < 15:\n",
    "    page_num += 1\n",
    "    print(page_num)\n",
    "    for art_num, art in enumerate(scrape_page(link)):\n",
    "        write_article(art, 'C:\\\\Users\\\\Даша\\\\Downloads\\\\FH\\\\DQDA\\\\Projekt\\\\bild_corpus\\\\b_article_' + str(page_num) + 'p' + str(art_num) + '.txt')\n",
    "        \n",
    "    try:\n",
    "        link = find_next_page(get_page(link))\n",
    "    except:\n",
    "        break"
   ]
  }
 ],
 "metadata": {
  "kernelspec": {
   "display_name": "Python 3",
   "language": "python",
   "name": "python3"
  },
  "language_info": {
   "codemirror_mode": {
    "name": "ipython",
    "version": 3
   },
   "file_extension": ".py",
   "mimetype": "text/x-python",
   "name": "python",
   "nbconvert_exporter": "python",
   "pygments_lexer": "ipython3",
   "version": "3.6.4"
  }
 },
 "nbformat": 4,
 "nbformat_minor": 2
}
