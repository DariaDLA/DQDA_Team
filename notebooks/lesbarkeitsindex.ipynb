{
  "cells": [
    {
      "metadata": {
        "trusted": true
      },
      "cell_type": "code",
      "source": "!pip install git+git://github.com/shivam5992/textstat.git\n\n",
      "execution_count": 4,
      "outputs": [
        {
          "output_type": "stream",
          "text": "Collecting git+git://github.com/shivam5992/textstat.git\n  Cloning git://github.com/shivam5992/textstat.git to /tmp/pip-req-build-ws2cec5c\n  Running command git clone -q git://github.com/shivam5992/textstat.git /tmp/pip-req-build-ws2cec5c\nCollecting pyphen\n\u001b[?25l  Downloading https://files.pythonhosted.org/packages/15/82/08a3629dce8d1f3d91db843bb36d4d7db6b6269d5067259613a0d5c8a9db/Pyphen-0.9.5-py2.py3-none-any.whl (3.0MB)\n\u001b[K     |████████████████████████████████| 3.0MB 1.2MB/s eta 0:00:01\n\u001b[?25hCollecting repoze.lru\n  Downloading https://files.pythonhosted.org/packages/b0/30/6cc0c95f0b59ad4b3b9163bff7cdcf793cc96fac64cf398ff26271f5cf5e/repoze.lru-0.7-py3-none-any.whl\nBuilding wheels for collected packages: textstat\n  Building wheel for textstat (setup.py) ... \u001b[?25ldone\n\u001b[?25h  Created wheel for textstat: filename=textstat-0.5.6-cp36-none-any.whl size=20534 sha256=60340ca49adcf581ccb7161c165a510ba535432a437ec5dc79a8a25a15e9e633\n  Stored in directory: /tmp/pip-ephem-wheel-cache-uvnm3_cv/wheels/ab/30/39/2a55f838f1e77e0385dbe7e61fb3ed706f79dd9913bec43581\nSuccessfully built textstat\nInstalling collected packages: pyphen, repoze.lru, textstat\nSuccessfully installed pyphen-0.9.5 repoze.lru-0.7 textstat-0.5.6\n",
          "name": "stdout"
        }
      ]
    },
    {
      "metadata": {
        "trusted": true
      },
      "cell_type": "code",
      "source": "import textstat\n\ntest_data = (\n    \"Playing games has always been thought to be important to \"\n    \"the development of well-balanced and creative children; \"\n    \"however, what part, if any, they should play in the lives \"\n    \"of adults has never been researched that deeply. I believe \"\n    \"that playing games is every bit as important for adults \"\n    \"as for children. Not only is taking time out to play games \"\n    \"with our children and other adults valuable to building \"\n    \"interpersonal relationships but is also a wonderful way \"\n    \"to release built up tension.\"\n)",
      "execution_count": 7,
      "outputs": []
    },
    {
      "metadata": {
        "trusted": true
      },
      "cell_type": "code",
      "source": "textstat.flesch_reading_ease(test_data)\n#textstat.smog_index(test_data)\n#textstat.flesch_kincaid_grade(test_data)\n#textstat.coleman_liau_index(test_data)\n#textstat.automated_readability_index(test_data)\n#textstat.dale_chall_readability_score(test_data)\n#textstat.difficult_words(test_data)\n#textstat.linsear_write_formula(test_data)\n#textstat.gunning_fog(test_data)\n#textstat.text_standard(test_data)",
      "execution_count": 10,
      "outputs": [
        {
          "output_type": "execute_result",
          "execution_count": 10,
          "data": {
            "text/plain": "52.23"
          },
          "metadata": {}
        }
      ]
    }
  ],
  "metadata": {
    "kernelspec": {
      "name": "python36",
      "display_name": "Python 3.6",
      "language": "python"
    },
    "language_info": {
      "mimetype": "text/x-python",
      "nbconvert_exporter": "python",
      "name": "python",
      "pygments_lexer": "ipython3",
      "version": "3.6.6",
      "file_extension": ".py",
      "codemirror_mode": {
        "version": 3,
        "name": "ipython"
      }
    }
  },
  "nbformat": 4,
  "nbformat_minor": 1
}