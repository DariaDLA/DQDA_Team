{
 "nbformat": 4,
 "nbformat_minor": 2,
 "metadata": {
  "language_info": {
   "name": "python",
   "codemirror_mode": {
    "name": "ipython",
    "version": 3
   },
   "version": "3.7.3"
  },
  "orig_nbformat": 2,
  "file_extension": ".py",
  "mimetype": "text/x-python",
  "name": "python",
  "npconvert_exporter": "python",
  "pygments_lexer": "ipython3",
  "version": 3
 },
 "cells": [
  {
   "cell_type": "code",
   "execution_count": 2,
   "metadata": {},
   "outputs": [],
   "source": [
    "import nltk\n",
    "from textblob_de import TextBlobDE as TextBlob\n",
    "import numpy as np\n",
    "\n"
   ]
  },
  {
   "cell_type": "code",
   "execution_count": 3,
   "metadata": {},
   "outputs": [],
   "source": [
    "from sa_class import Text_Sentiment # importiert die Klasse für Sentiment Analysis"
   ]
  },
  {
   "cell_type": "code",
   "execution_count": 4,
   "metadata": {},
   "outputs": [],
   "source": [
    "import json\n",
    "with open('article_2p9.txt') as json_file:  # importiert Text Datei\n",
    "    data = json.load(json_file)"
   ]
  },
  {
   "cell_type": "code",
   "execution_count": 5,
   "metadata": {},
   "outputs": [],
   "source": [
    "ts = Text_Sentiment(data['text'])  # unter Verwendung von der Klasse Text_Sentiment wird der Text des Artikels ausgewählt, damit in weiterer Folge die Sentiments (polarity und subjectivity) ermittelt werden können"
   ]
  },
  {
   "cell_type": "code",
   "execution_count": 6,
   "metadata": {},
   "outputs": [
    {
     "data": {
      "text/plain": "Sentiment(polarity=-0.006388888888888892, subjectivity=0.06111111111111111)"
     },
     "execution_count": 6,
     "metadata": {},
     "output_type": "execute_result"
    }
   ],
   "source": [
    "ts.text_sentiment()"
   ]
  },
  {
   "cell_type": "code",
   "execution_count": 15,
   "metadata": {},
   "outputs": [
    {
     "data": {
      "text/plain": "array([[-1.        ,  0.        ],\n       [ 0.        ,  0.        ],\n       [ 0.        ,  0.        ],\n       [-0.7       ,  0.        ],\n       [ 0.        ,  0.        ],\n       [ 0.7       ,  0.        ],\n       [ 0.7       ,  0.        ],\n       [-1.        ,  0.        ],\n       [ 0.        ,  0.        ],\n       [ 0.        ,  0.        ],\n       [ 0.        ,  0.        ],\n       [ 0.        ,  0.        ],\n       [ 0.7       ,  0.        ],\n       [ 0.7       ,  0.        ],\n       [ 0.        ,  0.        ],\n       [ 0.        ,  0.        ],\n       [ 0.        ,  1.        ],\n       [ 0.        ,  0.        ],\n       [ 0.        ,  0.        ],\n       [-0.175     ,  0.        ],\n       [-0.35      ,  0.5       ],\n       [ 0.        ,  0.        ],\n       [-0.46666667,  0.33333333],\n       [ 0.        ,  0.        ],\n       [ 0.        ,  0.        ],\n       [ 0.7       ,  0.        ],\n       [ 0.        ,  0.        ],\n       [ 0.        ,  0.        ],\n       [ 0.        ,  0.        ],\n       [ 0.        ,  0.        ]])"
     },
     "execution_count": 15,
     "metadata": {},
     "output_type": "execute_result"
    }
   ],
   "source": [
    "np.array(ts.sentence_sentiments()) # sentiments pro Satz des Textes"
   ]
  },
  {
   "cell_type": "code",
   "execution_count": 16,
   "metadata": {},
   "outputs": [
    {
     "data": {
      "text/plain": "array([-0.00638889,  0.06111111])"
     },
     "execution_count": 16,
     "metadata": {},
     "output_type": "execute_result"
    }
   ],
   "source": [
    "ts.agg_sentiment() # Mittelwert der Sentiments pro Satz aus Text"
   ]
  },
  {
   "cell_type": "code",
   "execution_count": 50,
   "metadata": {},
   "outputs": [
    {
     "data": {
      "text/plain": "array([[-0.15      ,  0.        ],\n       [ 0.35      ,  0.        ],\n       [ 0.14      ,  0.4       ],\n       [ 0.05      ,  0.33333333],\n       [ 0.        ,  0.        ],\n       [-0.04666667,  0.2       ],\n       [ 0.        ,  0.5       ],\n       [ 0.        ,  0.        ],\n       [ 0.        ,  0.        ],\n       [-0.5       ,  0.5       ],\n       [-0.14      ,  0.        ],\n       [-0.6       ,  0.25      ],\n       [ 0.16666667,  0.16666667],\n       [-0.1475    ,  0.        ],\n       [ 0.56666667,  0.        ],\n       [-0.7       ,  0.        ],\n       [ 0.62      ,  0.        ],\n       [ 0.28      ,  0.        ],\n       [-0.35833333,  0.        ],\n       [ 0.34      ,  0.1       ],\n       [ 0.        ,  0.        ],\n       [ 0.2125    ,  0.        ],\n       [ 0.2125    ,  0.        ],\n       [ 0.        ,  0.25      ],\n       [-0.33333333,  0.16666667],\n       [ 0.23333333,  0.        ],\n       [-0.33333333,  0.        ],\n       [ 0.        ,  0.        ],\n       [ 0.        ,  0.        ]])"
     },
     "execution_count": 50,
     "metadata": {},
     "output_type": "execute_result"
    }
   ],
   "source": [
    "comment_sentiments = []                                 # für die Kommentare werden die Sentiments pro Kommentar erstellt und als Liste \n",
    "for comment in data['thread']:                          # bereitgestellt\n",
    "    tc = Text_Sentiment(comment)\n",
    "    comment_sentiments.append(tc.text_sentiment())\n",
    "np.array(comment_sentiments)"
   ]
  },
  {
   "cell_type": "code",
   "execution_count": 70,
   "metadata": {},
   "outputs": [
    {
     "data": {
      "text/plain": "array([-0.00474138,  0.09885057])"
     },
     "execution_count": 70,
     "metadata": {},
     "output_type": "execute_result"
    }
   ],
   "source": [
    "np.mean(comment_sentiments, axis=0)                # Mittelwert für comments sentiments"
   ]
  }
 ]
}