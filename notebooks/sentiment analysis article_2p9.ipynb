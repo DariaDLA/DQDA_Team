{
 "nbformat": 4,
 "nbformat_minor": 2,
 "metadata": {
  "language_info": {
   "name": "python",
   "codemirror_mode": {
    "name": "ipython",
    "version": 3
   },
   "version": "3.7.3"
  },
  "orig_nbformat": 2,
  "file_extension": ".py",
  "mimetype": "text/x-python",
  "name": "python",
  "npconvert_exporter": "python",
  "pygments_lexer": "ipython3",
  "version": 3
 },
 "cells": [
  {
   "cell_type": "code",
   "execution_count": 7,
   "metadata": {},
   "outputs": [],
   "source": [
    "import nltk\n",
    "from textblob_de import TextBlobDE as TextBlob\n",
    "import numpy as np"
   ]
  },
  {
   "cell_type": "code",
   "execution_count": 1,
   "metadata": {},
   "outputs": [],
   "source": [
    "from sa_class import Text_Sentiment # importiert die Klasse für Sentiment Analysis"
   ]
  },
  {
   "cell_type": "code",
   "execution_count": 27,
   "metadata": {},
   "outputs": [],
   "source": [
    "import json\n",
    "with open('article_2p9.txt') as json_file:  # importiert Text Datei\n",
    "    data = json.load(json_file)"
   ]
  },
  {
   "cell_type": "code",
   "execution_count": 4,
   "metadata": {},
   "outputs": [],
   "source": [
    "ts = Text_Sentiment(data['text'])  # unter Verwendung von der Klasse Text_Sentiment wird der Text des Artikels ausgewählt, damit in weiterer Folge die Sentiments (polarity und subjectivity) ermittelt werden können"
   ]
  },
  {
   "cell_type": "code",
   "execution_count": 5,
   "metadata": {},
   "outputs": [
    {
     "data": {
      "text/plain": "Sentiment(polarity=0.3587878787878788, subjectivity=0.08333333333333333)"
     },
     "execution_count": 5,
     "metadata": {},
     "output_type": "execute_result"
    }
   ],
   "source": [
    "ts.text_sentiment()"
   ]
  },
  {
   "cell_type": "code",
   "execution_count": 29,
   "metadata": {},
   "outputs": [
    {
     "data": {
      "text/plain": "array([[ 0.5       ,  0.5       ],\n       [ 0.7       ,  0.        ],\n       [ 0.        ,  0.        ],\n       [ 0.        ,  0.        ],\n       [ 1.        ,  0.        ],\n       [ 0.7       ,  0.        ],\n       [ 1.        ,  0.        ],\n       [ 0.7       ,  0.        ],\n       [ 1.        ,  0.        ],\n       [ 1.        ,  0.        ],\n       [ 0.        ,  1.        ],\n       [ 0.38333333,  0.        ],\n       [ 0.66      ,  0.        ],\n       [-1.        ,  0.        ],\n       [ 1.        ,  0.        ],\n       [ 0.        ,  0.        ],\n       [ 0.        ,  0.        ],\n       [ 0.        ,  0.        ],\n       [ 0.        ,  0.        ],\n       [ 0.        ,  0.        ],\n       [-0.45      ,  0.33333333],\n       [ 0.7       ,  0.        ]])"
     },
     "execution_count": 29,
     "metadata": {},
     "output_type": "execute_result"
    }
   ],
   "source": [
    "np.array(ts.sentence_sentiments()) # sentiments pro Satz des Textes"
   ]
  },
  {
   "cell_type": "code",
   "execution_count": 30,
   "metadata": {},
   "outputs": [
    {
     "data": {
      "text/plain": "array([0.35878788, 0.08333333])"
     },
     "execution_count": 30,
     "metadata": {},
     "output_type": "execute_result"
    }
   ],
   "source": [
    "ts.agg_sentiment() # Mittelwert der Sentiments pro Satz aus Text"
   ]
  },
  {
   "cell_type": "code",
   "execution_count": 17,
   "metadata": {},
   "outputs": [],
   "source": [
    "ths = Text_Sentiment(data['thread']) # unter Verwendung der Klasse Text_Sentiment werden die Kommentare (thread) zum Artikels ausgewählt"
   ]
  },
  {
   "cell_type": "code",
   "execution_count": 19,
   "metadata": {},
   "outputs": [
    {
     "data": {
      "text/plain": "Sentiment(polarity=0.08190188092975556, subjectivity=0.08420120568552623)"
     },
     "execution_count": 19,
     "metadata": {},
     "output_type": "execute_result"
    }
   ],
   "source": [
    "ths.text_sentiment() # sentiments der gesamten Kommentare"
   ]
  },
  {
   "cell_type": "code",
   "execution_count": 20,
   "metadata": {},
   "outputs": [
    {
     "data": {
      "text/plain": "array([[1., 0.],\n       [0., 0.],\n       [1., 0.],\n       ...,\n       [1., 0.],\n       [0., 0.],\n       [0., 0.]])"
     },
     "execution_count": 20,
     "metadata": {},
     "output_type": "execute_result"
    }
   ],
   "source": [
    "np.array(ths.sentence_sentiments()) # sentiments pro Kommentar"
   ]
  },
  {
   "cell_type": "code",
   "execution_count": 31,
   "metadata": {},
   "outputs": [
    {
     "data": {
      "text/plain": "array([0.08190188, 0.08420121])"
     },
     "execution_count": 31,
     "metadata": {},
     "output_type": "execute_result"
    }
   ],
   "source": [
    "ths.agg_sentiment() # Mittelwert der Sentiments pro Satz aus Text"
   ]
  },
  {
   "cell_type": "code",
   "execution_count": null,
   "metadata": {},
   "outputs": [],
   "source": [
    "# wenn man den Mittelwert der Sentiments des Textes mit dem MIttelwert der Sentiments der KOmmentare vergleicht, sieht man, dass die Polarity der Kommentare niedriger ist, aber beide positiv. Subjektivität ist nur gering höher bei den Kommentaren"
   ]
  }
 ]
}