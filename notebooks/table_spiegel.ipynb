{
 "cells": [
  {
   "cell_type": "code",
   "execution_count": 111,
   "metadata": {
    "collapsed": true
   },
   "outputs": [],
   "source": [
    "import pandas as pd\n",
    "import numpy as np\n",
    "import seaborn as sns"
   ]
  },
  {
   "cell_type": "code",
   "execution_count": 112,
   "metadata": {
    "collapsed": false
   },
   "outputs": [],
   "source": [
    "# Import CSV Tables\n",
    "df_comments = pd.read_csv('spiegel_comments_sentiment.csv',index_col=0) # import CSV Auswertung Threads\n",
    "df_article = pd.read_csv('df_gesamt.csv', index_col=0) # Import CSV Auswertung Artikel\n",
    "\n",
    "# RESET Index\n",
    "df_comments.set_index('Id',inplace = True)\n",
    "df_article.set_index('Id',inplace = True)\n",
    "\n",
    "# Join Tables\n",
    "df = df_article.join(df_comments)\n",
    "\n",
    "# Convertings\n",
    "to_drop = df[(df['lesbarkeit']<0) | (df['lesbarkeit']>100)] # drop rows Lesbarkeit kleiner 0 oder größer 100\n",
    "df.drop(to_drop.index, inplace = True)\n",
    "\n",
    "\n"
   ]
  },
  {
   "cell_type": "code",
   "execution_count": 113,
   "metadata": {
    "collapsed": false
   },
   "outputs": [
    {
     "data": {
      "text/html": [
       "<div>\n",
       "<table border=\"1\" class=\"dataframe\">\n",
       "  <thead>\n",
       "    <tr style=\"text-align: right;\">\n",
       "      <th></th>\n",
       "      <th>articles_counts</th>\n",
       "      <th>day</th>\n",
       "      <th>lesbarkeit</th>\n",
       "      <th>month</th>\n",
       "      <th>polarity</th>\n",
       "      <th>subjectivity</th>\n",
       "      <th>thread_counts</th>\n",
       "      <th>word_counts</th>\n",
       "      <th>year</th>\n",
       "      <th>mean_comment_pol</th>\n",
       "      <th>min_comment_pol</th>\n",
       "      <th>max_comment_pol</th>\n",
       "      <th>median_comment_pol</th>\n",
       "      <th>mean_comment_subj</th>\n",
       "      <th>min_comment_subj</th>\n",
       "      <th>max_comment_subj</th>\n",
       "      <th>median_comment_subj</th>\n",
       "    </tr>\n",
       "  </thead>\n",
       "  <tbody>\n",
       "    <tr>\n",
       "      <th>count</th>\n",
       "      <td>864.0</td>\n",
       "      <td>864.000000</td>\n",
       "      <td>864.000000</td>\n",
       "      <td>864.000000</td>\n",
       "      <td>864.000000</td>\n",
       "      <td>864.000000</td>\n",
       "      <td>864.000000</td>\n",
       "      <td>864.000000</td>\n",
       "      <td>864.000000</td>\n",
       "      <td>625.000000</td>\n",
       "      <td>625.000000</td>\n",
       "      <td>625.000000</td>\n",
       "      <td>625.000000</td>\n",
       "      <td>625.000000</td>\n",
       "      <td>625.0</td>\n",
       "      <td>625.000000</td>\n",
       "      <td>625.000000</td>\n",
       "    </tr>\n",
       "    <tr>\n",
       "      <th>mean</th>\n",
       "      <td>1.0</td>\n",
       "      <td>15.766204</td>\n",
       "      <td>50.094271</td>\n",
       "      <td>7.425926</td>\n",
       "      <td>0.060070</td>\n",
       "      <td>0.086003</td>\n",
       "      <td>105.464120</td>\n",
       "      <td>581.077546</td>\n",
       "      <td>2017.819444</td>\n",
       "      <td>0.085033</td>\n",
       "      <td>-0.812014</td>\n",
       "      <td>0.913965</td>\n",
       "      <td>0.042270</td>\n",
       "      <td>0.090023</td>\n",
       "      <td>0.0</td>\n",
       "      <td>0.781632</td>\n",
       "      <td>0.007137</td>\n",
       "    </tr>\n",
       "    <tr>\n",
       "      <th>std</th>\n",
       "      <td>0.0</td>\n",
       "      <td>7.930373</td>\n",
       "      <td>8.634257</td>\n",
       "      <td>3.288249</td>\n",
       "      <td>0.109733</td>\n",
       "      <td>0.062545</td>\n",
       "      <td>143.695567</td>\n",
       "      <td>319.679220</td>\n",
       "      <td>1.340100</td>\n",
       "      <td>0.048396</td>\n",
       "      <td>0.251083</td>\n",
       "      <td>0.158485</td>\n",
       "      <td>0.051810</td>\n",
       "      <td>0.022671</td>\n",
       "      <td>0.0</td>\n",
       "      <td>0.250356</td>\n",
       "      <td>0.020701</td>\n",
       "    </tr>\n",
       "    <tr>\n",
       "      <th>min</th>\n",
       "      <td>1.0</td>\n",
       "      <td>1.000000</td>\n",
       "      <td>12.200000</td>\n",
       "      <td>1.000000</td>\n",
       "      <td>-0.370000</td>\n",
       "      <td>0.000000</td>\n",
       "      <td>0.000000</td>\n",
       "      <td>57.000000</td>\n",
       "      <td>2015.000000</td>\n",
       "      <td>-0.086380</td>\n",
       "      <td>-1.000000</td>\n",
       "      <td>0.287500</td>\n",
       "      <td>-0.050000</td>\n",
       "      <td>0.005128</td>\n",
       "      <td>0.0</td>\n",
       "      <td>0.066667</td>\n",
       "      <td>0.000000</td>\n",
       "    </tr>\n",
       "    <tr>\n",
       "      <th>25%</th>\n",
       "      <td>1.0</td>\n",
       "      <td>10.000000</td>\n",
       "      <td>45.565000</td>\n",
       "      <td>5.000000</td>\n",
       "      <td>-0.011112</td>\n",
       "      <td>0.041385</td>\n",
       "      <td>0.000000</td>\n",
       "      <td>349.000000</td>\n",
       "      <td>2017.000000</td>\n",
       "      <td>0.059195</td>\n",
       "      <td>-1.000000</td>\n",
       "      <td>0.875000</td>\n",
       "      <td>0.000000</td>\n",
       "      <td>0.076230</td>\n",
       "      <td>0.0</td>\n",
       "      <td>0.500000</td>\n",
       "      <td>0.000000</td>\n",
       "    </tr>\n",
       "    <tr>\n",
       "      <th>50%</th>\n",
       "      <td>1.0</td>\n",
       "      <td>14.000000</td>\n",
       "      <td>50.460000</td>\n",
       "      <td>8.000000</td>\n",
       "      <td>0.064199</td>\n",
       "      <td>0.080397</td>\n",
       "      <td>57.000000</td>\n",
       "      <td>498.000000</td>\n",
       "      <td>2018.000000</td>\n",
       "      <td>0.083858</td>\n",
       "      <td>-1.000000</td>\n",
       "      <td>1.000000</td>\n",
       "      <td>0.030000</td>\n",
       "      <td>0.089686</td>\n",
       "      <td>0.0</td>\n",
       "      <td>1.000000</td>\n",
       "      <td>0.000000</td>\n",
       "    </tr>\n",
       "    <tr>\n",
       "      <th>75%</th>\n",
       "      <td>1.0</td>\n",
       "      <td>22.000000</td>\n",
       "      <td>56.050000</td>\n",
       "      <td>10.000000</td>\n",
       "      <td>0.125118</td>\n",
       "      <td>0.123207</td>\n",
       "      <td>143.750000</td>\n",
       "      <td>776.500000</td>\n",
       "      <td>2019.000000</td>\n",
       "      <td>0.106311</td>\n",
       "      <td>-0.666667</td>\n",
       "      <td>1.000000</td>\n",
       "      <td>0.069722</td>\n",
       "      <td>0.102193</td>\n",
       "      <td>0.0</td>\n",
       "      <td>1.000000</td>\n",
       "      <td>0.000000</td>\n",
       "    </tr>\n",
       "    <tr>\n",
       "      <th>max</th>\n",
       "      <td>1.0</td>\n",
       "      <td>31.000000</td>\n",
       "      <td>73.580000</td>\n",
       "      <td>12.000000</td>\n",
       "      <td>0.428571</td>\n",
       "      <td>0.500000</td>\n",
       "      <td>1251.000000</td>\n",
       "      <td>3381.000000</td>\n",
       "      <td>2019.000000</td>\n",
       "      <td>0.343558</td>\n",
       "      <td>0.000000</td>\n",
       "      <td>1.000000</td>\n",
       "      <td>0.360714</td>\n",
       "      <td>0.214141</td>\n",
       "      <td>0.0</td>\n",
       "      <td>1.000000</td>\n",
       "      <td>0.191667</td>\n",
       "    </tr>\n",
       "  </tbody>\n",
       "</table>\n",
       "</div>"
      ],
      "text/plain": [
       "       articles_counts         day  lesbarkeit       month    polarity  \\\n",
       "count            864.0  864.000000  864.000000  864.000000  864.000000   \n",
       "mean               1.0   15.766204   50.094271    7.425926    0.060070   \n",
       "std                0.0    7.930373    8.634257    3.288249    0.109733   \n",
       "min                1.0    1.000000   12.200000    1.000000   -0.370000   \n",
       "25%                1.0   10.000000   45.565000    5.000000   -0.011112   \n",
       "50%                1.0   14.000000   50.460000    8.000000    0.064199   \n",
       "75%                1.0   22.000000   56.050000   10.000000    0.125118   \n",
       "max                1.0   31.000000   73.580000   12.000000    0.428571   \n",
       "\n",
       "       subjectivity  thread_counts  word_counts         year  \\\n",
       "count    864.000000     864.000000   864.000000   864.000000   \n",
       "mean       0.086003     105.464120   581.077546  2017.819444   \n",
       "std        0.062545     143.695567   319.679220     1.340100   \n",
       "min        0.000000       0.000000    57.000000  2015.000000   \n",
       "25%        0.041385       0.000000   349.000000  2017.000000   \n",
       "50%        0.080397      57.000000   498.000000  2018.000000   \n",
       "75%        0.123207     143.750000   776.500000  2019.000000   \n",
       "max        0.500000    1251.000000  3381.000000  2019.000000   \n",
       "\n",
       "       mean_comment_pol  min_comment_pol  max_comment_pol  median_comment_pol  \\\n",
       "count        625.000000       625.000000       625.000000          625.000000   \n",
       "mean           0.085033        -0.812014         0.913965            0.042270   \n",
       "std            0.048396         0.251083         0.158485            0.051810   \n",
       "min           -0.086380        -1.000000         0.287500           -0.050000   \n",
       "25%            0.059195        -1.000000         0.875000            0.000000   \n",
       "50%            0.083858        -1.000000         1.000000            0.030000   \n",
       "75%            0.106311        -0.666667         1.000000            0.069722   \n",
       "max            0.343558         0.000000         1.000000            0.360714   \n",
       "\n",
       "       mean_comment_subj  min_comment_subj  max_comment_subj  \\\n",
       "count         625.000000             625.0        625.000000   \n",
       "mean            0.090023               0.0          0.781632   \n",
       "std             0.022671               0.0          0.250356   \n",
       "min             0.005128               0.0          0.066667   \n",
       "25%             0.076230               0.0          0.500000   \n",
       "50%             0.089686               0.0          1.000000   \n",
       "75%             0.102193               0.0          1.000000   \n",
       "max             0.214141               0.0          1.000000   \n",
       "\n",
       "       median_comment_subj  \n",
       "count           625.000000  \n",
       "mean              0.007137  \n",
       "std               0.020701  \n",
       "min               0.000000  \n",
       "25%               0.000000  \n",
       "50%               0.000000  \n",
       "75%               0.000000  \n",
       "max               0.191667  "
      ]
     },
     "execution_count": 113,
     "metadata": {},
     "output_type": "execute_result"
    }
   ],
   "source": [
    "df.describe()"
   ]
  },
  {
   "cell_type": "code",
   "execution_count": 114,
   "metadata": {
    "collapsed": false
   },
   "outputs": [
    {
     "name": "stderr",
     "output_type": "stream",
     "text": [
      "C:\\Users\\Stefan Kostelecky\\Anaconda3\\lib\\site-packages\\statsmodels\\nonparametric\\kdetools.py:20: VisibleDeprecationWarning: using a non-integer number instead of an integer will result in an error in the future\n",
      "  y = X[:m/2+1] + np.r_[0,X[m/2+1:],0]*1j\n"
     ]
    }
   ],
   "source": [
    "x = sns.distplot(df.lesbarkeit.dropna())"
   ]
  },
  {
   "cell_type": "code",
   "execution_count": 115,
   "metadata": {
    "collapsed": false
   },
   "outputs": [],
   "source": [
    "df1 = pd.DataFrame({'A': range(2,15,2)})"
   ]
  },
  {
   "cell_type": "code",
   "execution_count": 116,
   "metadata": {
    "collapsed": false
   },
   "outputs": [
    {
     "name": "stderr",
     "output_type": "stream",
     "text": [
      "C:\\Users\\Stefan Kostelecky\\Anaconda3\\lib\\site-packages\\statsmodels\\nonparametric\\kdetools.py:20: VisibleDeprecationWarning: using a non-integer number instead of an integer will result in an error in the future\n",
      "  y = X[:m/2+1] + np.r_[0,X[m/2+1:],0]*1j\n"
     ]
    },
    {
     "data": {
      "text/plain": [
       "<matplotlib.axes._subplots.AxesSubplot at 0x2155b80c5c0>"
      ]
     },
     "execution_count": 116,
     "metadata": {},
     "output_type": "execute_result"
    }
   ],
   "source": [
    "sns.distplot(df1.A)"
   ]
  },
  {
   "cell_type": "code",
   "execution_count": null,
   "metadata": {
    "collapsed": true
   },
   "outputs": [],
   "source": []
  }
 ],
 "metadata": {
  "kernelspec": {
   "display_name": "Python 3",
   "language": "python",
   "name": "python3"
  },
  "language_info": {
   "codemirror_mode": {
    "name": "ipython",
    "version": 3
   },
   "file_extension": ".py",
   "mimetype": "text/x-python",
   "name": "python",
   "nbconvert_exporter": "python",
   "pygments_lexer": "ipython3",
   "version": "3.6.0"
  }
 },
 "nbformat": 4,
 "nbformat_minor": 2
}
